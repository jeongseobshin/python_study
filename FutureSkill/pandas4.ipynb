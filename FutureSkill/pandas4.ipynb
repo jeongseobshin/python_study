{
 "metadata": {
  "language_info": {
   "codemirror_mode": {
    "name": "ipython",
    "version": 3
   },
   "file_extension": ".py",
   "mimetype": "text/x-python",
   "name": "python",
   "nbconvert_exporter": "python",
   "pygments_lexer": "ipython3",
   "version": "3.7.7-final"
  },
  "orig_nbformat": 2,
  "kernelspec": {
   "name": "python3",
   "display_name": "Python 3.7.7 64-bit ('dvm': conda)",
   "metadata": {
    "interpreter": {
     "hash": "72402d38f153c7a09d76b83c353e1a771029e988b0e3167e2d4cb69a1cd6bdaa"
    }
   }
  }
 },
 "nbformat": 4,
 "nbformat_minor": 2,
 "cells": [
  {
   "cell_type": "code",
   "execution_count": 41,
   "metadata": {},
   "outputs": [
    {
     "output_type": "execute_result",
     "data": {
      "text/plain": [
       "       name             major     sex\n",
       "0      John  computer science    male\n",
       "1      Nate  computer science  female\n",
       "2   Abraham           physics    male\n",
       "3     Brian        psychology    male\n",
       "4     Janny          Economic  female\n",
       "5      Yuna          Economic  female\n",
       "6  Jeniffer  computer science  female\n",
       "7    Edward  computer science    male\n",
       "8      Zara        psychology    male\n",
       "9      Sera           physics  female"
      ],
      "text/html": "<div>\n<style scoped>\n    .dataframe tbody tr th:only-of-type {\n        vertical-align: middle;\n    }\n\n    .dataframe tbody tr th {\n        vertical-align: top;\n    }\n\n    .dataframe thead th {\n        text-align: right;\n    }\n</style>\n<table border=\"1\" class=\"dataframe\">\n  <thead>\n    <tr style=\"text-align: right;\">\n      <th></th>\n      <th>name</th>\n      <th>major</th>\n      <th>sex</th>\n    </tr>\n  </thead>\n  <tbody>\n    <tr>\n      <th>0</th>\n      <td>John</td>\n      <td>computer science</td>\n      <td>male</td>\n    </tr>\n    <tr>\n      <th>1</th>\n      <td>Nate</td>\n      <td>computer science</td>\n      <td>female</td>\n    </tr>\n    <tr>\n      <th>2</th>\n      <td>Abraham</td>\n      <td>physics</td>\n      <td>male</td>\n    </tr>\n    <tr>\n      <th>3</th>\n      <td>Brian</td>\n      <td>psychology</td>\n      <td>male</td>\n    </tr>\n    <tr>\n      <th>4</th>\n      <td>Janny</td>\n      <td>Economic</td>\n      <td>female</td>\n    </tr>\n    <tr>\n      <th>5</th>\n      <td>Yuna</td>\n      <td>Economic</td>\n      <td>female</td>\n    </tr>\n    <tr>\n      <th>6</th>\n      <td>Jeniffer</td>\n      <td>computer science</td>\n      <td>female</td>\n    </tr>\n    <tr>\n      <th>7</th>\n      <td>Edward</td>\n      <td>computer science</td>\n      <td>male</td>\n    </tr>\n    <tr>\n      <th>8</th>\n      <td>Zara</td>\n      <td>psychology</td>\n      <td>male</td>\n    </tr>\n    <tr>\n      <th>9</th>\n      <td>Sera</td>\n      <td>physics</td>\n      <td>female</td>\n    </tr>\n  </tbody>\n</table>\n</div>"
     },
     "metadata": {},
     "execution_count": 41
    }
   ],
   "source": [
    "import pandas as pd\n",
    "\n",
    "student_list = [\n",
    "    {'name':'John','major':'computer science','sex':'male'},\n",
    "    {'name':'Nate','major':'computer science','sex':'female'},\n",
    "    {'name':'Abraham','major':'physics','sex':'male'},\n",
    "    {'name':'Brian','major':'psychology','sex':'male'},\n",
    "    {'name':'Janny','major':'Economic','sex':'female'},\n",
    "    {'name':'Yuna','major':'Economic','sex':'female'},\n",
    "    {'name':'Jeniffer','major':'computer science','sex':'female'},\n",
    "    {'name':'Edward','major':'computer science','sex':'male'},\n",
    "    {'name':'Zara','major':'psychology','sex':'male'},\n",
    "    {'name':'Sera','major':'physics','sex':'female'},\n",
    "]\n",
    "df = pd.DataFrame(student_list, columns = ['name','major','sex'])\n",
    "df"
   ]
  },
  {
   "cell_type": "code",
   "execution_count": 49,
   "metadata": {},
   "outputs": [
    {
     "output_type": "stream",
     "name": "stdout",
     "text": [
      "Economic : 2\n    name     major     sex\n4  Janny  Economic  female\n5   Yuna  Economic  female\n\ncomputer science : 4\n       name             major     sex\n0      John  computer science    male\n1      Nate  computer science  female\n6  Jeniffer  computer science  female\n7    Edward  computer science    male\n\nphysics : 2\n      name    major     sex\n2  Abraham  physics    male\n9     Sera  physics  female\n\npsychology : 2\n    name       major   sex\n3  Brian  psychology  male\n8   Zara  psychology  male\n\n"
     ]
    }
   ],
   "source": [
    "groupby_major = df.groupby('major')\n",
    "groupby_major.groups\n",
    "for name, group in groupby_major:\n",
    "    print(name + \" : \" + str(len(group)))\n",
    "    print(group)\n",
    "    print() #한줄 공란"
   ]
  },
  {
   "cell_type": "code",
   "execution_count": 43,
   "metadata": {},
   "outputs": [
    {
     "output_type": "execute_result",
     "data": {
      "text/plain": [
       "              major  count\n",
       "0          Economic      2\n",
       "1  computer science      4\n",
       "2           physics      2\n",
       "3        psychology      2"
      ],
      "text/html": "<div>\n<style scoped>\n    .dataframe tbody tr th:only-of-type {\n        vertical-align: middle;\n    }\n\n    .dataframe tbody tr th {\n        vertical-align: top;\n    }\n\n    .dataframe thead th {\n        text-align: right;\n    }\n</style>\n<table border=\"1\" class=\"dataframe\">\n  <thead>\n    <tr style=\"text-align: right;\">\n      <th></th>\n      <th>major</th>\n      <th>count</th>\n    </tr>\n  </thead>\n  <tbody>\n    <tr>\n      <th>0</th>\n      <td>Economic</td>\n      <td>2</td>\n    </tr>\n    <tr>\n      <th>1</th>\n      <td>computer science</td>\n      <td>4</td>\n    </tr>\n    <tr>\n      <th>2</th>\n      <td>physics</td>\n      <td>2</td>\n    </tr>\n    <tr>\n      <th>3</th>\n      <td>psychology</td>\n      <td>2</td>\n    </tr>\n  </tbody>\n</table>\n</div>"
     },
     "metadata": {},
     "execution_count": 43
    }
   ],
   "source": [
    "df_major_cnt = pd.DataFrame({'count' : groupby_major.size()}).reset_index()\n",
    "df_major_cnt"
   ]
  },
  {
   "source": [
    "groupby_major = df.groupby('sex')\n",
    "for name, group in groupby_major:\n",
    "    print(name + \" : \" + str(len(group)))\n",
    "    print(group)\n",
    "    print()"
   ],
   "cell_type": "code",
   "metadata": {},
   "execution_count": 54,
   "outputs": [
    {
     "output_type": "stream",
     "name": "stdout",
     "text": [
      "female : 5\n       name             major     sex\n1      Nate  computer science  female\n4     Janny          Economic  female\n5      Yuna          Economic  female\n6  Jeniffer  computer science  female\n9      Sera           physics  female\n\nmale : 5\n      name             major   sex\n0     John  computer science  male\n2  Abraham           physics  male\n3    Brian        psychology  male\n7   Edward  computer science  male\n8     Zara        psychology  male\n\n"
     ]
    }
   ]
  },
  {
   "cell_type": "code",
   "execution_count": null,
   "metadata": {},
   "outputs": [],
   "source": [
    "#중복데이터 삭제하기"
   ]
  },
  {
   "source": [],
   "cell_type": "code",
   "metadata": {},
   "execution_count": null,
   "outputs": []
  }
 ]
}