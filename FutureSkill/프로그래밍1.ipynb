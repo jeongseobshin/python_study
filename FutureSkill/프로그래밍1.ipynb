{
 "metadata": {
  "language_info": {
   "codemirror_mode": {
    "name": "ipython",
    "version": 3
   },
   "file_extension": ".py",
   "mimetype": "text/x-python",
   "name": "python",
   "nbconvert_exporter": "python",
   "pygments_lexer": "ipython3",
   "version": "3.7.7-final"
  },
  "orig_nbformat": 2,
  "kernelspec": {
   "name": "python3",
   "display_name": "Python 3.7.7 64-bit ('dvm': conda)",
   "metadata": {
    "interpreter": {
     "hash": "72402d38f153c7a09d76b83c353e1a771029e988b0e3167e2d4cb69a1cd6bdaa"
    }
   }
  }
 },
 "nbformat": 4,
 "nbformat_minor": 2,
 "cells": [
  {
   "cell_type": "code",
   "execution_count": 8,
   "metadata": {},
   "outputs": [
    {
     "output_type": "stream",
     "name": "stdout",
     "text": [
      "1111011\n"
     ]
    }
   ],
   "source": [
    "'''\n",
    "1번 : 10진수를 2진수로\n",
    "우리가 흔히 사용하는 숫자 1, 8, 19, 28893 등등...은 10진수 체계입니다. 이를 컴퓨터가 알아 들을 수 있는 2진수로 바꾸려고 합니다. 어떻게 해야할까요?\n",
    "사용자에게 숫자를 입력받고 이를 2진수를 바꾸고 그 값을 출력하는 코드를 작성해주세요.\n",
    "'''\n",
    "a = 123\n",
    "b = []\n",
    "while a:\n",
    "    b.append(str(a%2))\n",
    "    a = int(a/2)\n",
    "b.reverse()\n",
    "print(int(''.join(b)))"
   ]
  },
  {
   "cell_type": "code",
   "execution_count": 9,
   "metadata": {},
   "outputs": [
    {
     "output_type": "stream",
     "name": "stdout",
     "text": [
      "수\n"
     ]
    }
   ],
   "source": [
    "'''\n",
    "2번 : 2020년\n",
    "2020년 1월 1일은 수요일입니다. 2020년 a월 b일은 무슨 요일일까요?\n",
    "두 수 a, b를 입력받아 2020년 a월 b일이 무슨 요일인지 반환하는 함수를 작성해주세요.\n",
    "(단, 아래의 제한조건을 준수해서 코드를 작성하세요.)\n",
    "\n",
    "조건\n",
    "2020년은 윤년입니다.\n",
    "2020년 a월 b일은 실제로 있는 날입니다. (13월 26일이나 2월 45일 같은 날짜는 주어지지 않습니다.)\n",
    "요일의 이름은 일요일부터 토요일까지 각각 SUN, MON, TUE, WED, THU, FRI, SAT 입니다.\n",
    "'''\n",
    "import datetime\n",
    "m = int(input()) #월\n",
    "d = int(input()) #일\n",
    "def findDay(a,b):\n",
    "    day = ['월','화','수','목','금','토','일']\n",
    "    return day[datetime.date(2021,a,b).weekday()]\n",
    "print(findDay(m,d))"
   ]
  },
  {
   "cell_type": "code",
   "execution_count": 14,
   "metadata": {},
   "outputs": [
    {
     "output_type": "execute_result",
     "data": {
      "text/plain": [
       "[[2, 3], [2, 3]]"
      ]
     },
     "metadata": {},
     "execution_count": 14
    }
   ],
   "source": [
    "'''\n",
    "3번 : 행렬 곱하기\n",
    "2차원 행렬 2개가 주어졌을 때, 2개의 행렬을 곱해서 결과를 출력하는 코드를 작성해주세요.\n",
    "\n",
    "조건\n",
    "라이브러리를 사용하지 않고 풀이해주세요.\n",
    "'''\n",
    "a = ([1, 2], [2, 4]); b = ([1, 0], [0, 3])\n",
    "a = ([1, 0], [1, 0]); b = ([2, 3], [4, 1])\n",
    "def productMatrix(A, B):\n",
    "  return [[sum(a*b for a, b in zip(A_row,B_col)) for B_col in zip(*B)] for A_row in A]\n",
    "\n",
    "productMatrix(a,b)"
   ]
  },
  {
   "cell_type": "code",
   "execution_count": 17,
   "metadata": {},
   "outputs": [
    {
     "output_type": "stream",
     "name": "stdout",
     "text": [
      "100\n1000\n10000\n"
     ]
    }
   ],
   "source": [
    "'''\n",
    "4번 : Factory 함수 사용하기\n",
    "n에 입력한 숫자에 따라 각각 2제곱, 3제곱, 4제곱을 할 수 있는 특별한 함수를 만드려고 합니다.\n",
    "'''\n",
    "def one(n):\n",
    "    def two(value):\n",
    "        return value ** n\n",
    "    return two\n",
    "\n",
    "a = one(2)\n",
    "b = one(3)\n",
    "c = one(4)\n",
    "print(a(10)) #a는 one함수, 10은 two의 value값으로 들어간다\n",
    "print(b(10))\n",
    "print(c(10))"
   ]
  },
  {
   "cell_type": "code",
   "execution_count": 18,
   "metadata": {},
   "outputs": [
    {
     "output_type": "stream",
     "name": "stdout",
     "text": [
      "['4', '2', '3', '1']\n"
     ]
    }
   ],
   "source": [
    "'''\n",
    "5번 : 패션대회\n",
    "패션의 선도주자 청길이는 패션의 발전을 위해 패션쇼를 방문해 유니크한 아이템을 조사하기로 하였습니다. 청길이는 입장하는 사람들의 패션에서 처음 보는 아이템 만을 기록합니다.\n",
    "이 때, 기록을 문자열 입력으로 받아, 유니크한 아이템의 번호를 요약해 출력해야 합니다.\n",
    "아래 조건을 만족하는 코드를 작성하세요.\n",
    "\n",
    "조건\n",
    "청길이는 각 옷의 종류를 정수로 기록해 놓습니다.\n",
    "입력은 \"1번: 3,1 2번: 4 3번: 2,1,3 4번: 2,1,3,4\" 과 같은 형태의 문자열 입니다.\n",
    "청길이의 기록을 토대로, 중복된 것은 입력하지 않으며, 유니크한 옷의 번호를 순서대로 적습니다.\n",
    "출력은 [3,1,4,2] 과 같은 형태의 리스트 입니다.\n",
    "'''\n",
    "import re\n",
    "\n",
    "records = \"1번: 4,2,3 2번: 3 3번: 2,3,4,1 4번: 2,3\"\n",
    "unique_item = []\n",
    "\n",
    "regex = re.compile(\"\\d번\")\n",
    "reg = regex.findall(records)\n",
    "\n",
    "for i in reg:\n",
    "    records = records.replace(i,'')\n",
    "res = re.findall(\"\\d+\", records)\n",
    "unique_item = sorted(set(res), key = lambda x: res.index(x))\n",
    "\n",
    "print(unique_item)"
   ]
  }
 ]
}