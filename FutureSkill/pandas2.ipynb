{
 "metadata": {
  "language_info": {
   "codemirror_mode": {
    "name": "ipython",
    "version": 3
   },
   "file_extension": ".py",
   "mimetype": "text/x-python",
   "name": "python",
   "nbconvert_exporter": "python",
   "pygments_lexer": "ipython3",
   "version": "3.7.7-final"
  },
  "orig_nbformat": 2,
  "kernelspec": {
   "name": "python3",
   "display_name": "Python 3.7.7 64-bit ('dvm': conda)",
   "metadata": {
    "interpreter": {
     "hash": "72402d38f153c7a09d76b83c353e1a771029e988b0e3167e2d4cb69a1cd6bdaa"
    }
   }
  }
 },
 "nbformat": 4,
 "nbformat_minor": 2,
 "cells": [
  {
   "cell_type": "code",
   "execution_count": 30,
   "metadata": {},
   "outputs": [],
   "source": [
    "import pandas as pd"
   ]
  },
  {
   "cell_type": "code",
   "execution_count": 31,
   "metadata": {},
   "outputs": [
    {
     "output_type": "execute_result",
     "data": {
      "text/plain": [
       "       age        job\n",
       "John    25    student\n",
       "Jenny   30    teacher\n",
       "Nate    31  developer"
      ],
      "text/html": "<div>\n<style scoped>\n    .dataframe tbody tr th:only-of-type {\n        vertical-align: middle;\n    }\n\n    .dataframe tbody tr th {\n        vertical-align: top;\n    }\n\n    .dataframe thead th {\n        text-align: right;\n    }\n</style>\n<table border=\"1\" class=\"dataframe\">\n  <thead>\n    <tr style=\"text-align: right;\">\n      <th></th>\n      <th>age</th>\n      <th>job</th>\n    </tr>\n  </thead>\n  <tbody>\n    <tr>\n      <th>John</th>\n      <td>25</td>\n      <td>student</td>\n    </tr>\n    <tr>\n      <th>Jenny</th>\n      <td>30</td>\n      <td>teacher</td>\n    </tr>\n    <tr>\n      <th>Nate</th>\n      <td>31</td>\n      <td>developer</td>\n    </tr>\n  </tbody>\n</table>\n</div>"
     },
     "metadata": {},
     "execution_count": 31
    }
   ],
   "source": [
    "friend = [\n",
    "    {'age' : 25, 'job':'student'},\n",
    "    {'age': 30, 'job':'teacher'},\n",
    "    {'age': 31, 'job':'developer'}\n",
    "]\n",
    "df = pd.DataFrame(friend, index = ['John','Jenny','Nate'], columns=['age','job'])\n",
    "df"
   ]
  },
  {
   "cell_type": "code",
   "execution_count": 32,
   "metadata": {},
   "outputs": [
    {
     "output_type": "execute_result",
     "data": {
      "text/plain": [
       "       age      job\n",
       "Jenny   30  teacher"
      ],
      "text/html": "<div>\n<style scoped>\n    .dataframe tbody tr th:only-of-type {\n        vertical-align: middle;\n    }\n\n    .dataframe tbody tr th {\n        vertical-align: top;\n    }\n\n    .dataframe thead th {\n        text-align: right;\n    }\n</style>\n<table border=\"1\" class=\"dataframe\">\n  <thead>\n    <tr style=\"text-align: right;\">\n      <th></th>\n      <th>age</th>\n      <th>job</th>\n    </tr>\n  </thead>\n  <tbody>\n    <tr>\n      <th>Jenny</th>\n      <td>30</td>\n      <td>teacher</td>\n    </tr>\n  </tbody>\n</table>\n</div>"
     },
     "metadata": {},
     "execution_count": 32
    }
   ],
   "source": [
    "df.drop(['John','Nate'])\n",
    "# df.drop(['John','Nate'], inplace = True) #inplace하게되면 따로 df에 저장안해도 저장됌"
   ]
  },
  {
   "cell_type": "code",
   "execution_count": 33,
   "metadata": {},
   "outputs": [
    {
     "output_type": "execute_result",
     "data": {
      "text/plain": [
       "       age        job\n",
       "John    25    student\n",
       "Jenny   30    teacher\n",
       "Nate    31  developer"
      ],
      "text/html": "<div>\n<style scoped>\n    .dataframe tbody tr th:only-of-type {\n        vertical-align: middle;\n    }\n\n    .dataframe tbody tr th {\n        vertical-align: top;\n    }\n\n    .dataframe thead th {\n        text-align: right;\n    }\n</style>\n<table border=\"1\" class=\"dataframe\">\n  <thead>\n    <tr style=\"text-align: right;\">\n      <th></th>\n      <th>age</th>\n      <th>job</th>\n    </tr>\n  </thead>\n  <tbody>\n    <tr>\n      <th>John</th>\n      <td>25</td>\n      <td>student</td>\n    </tr>\n    <tr>\n      <th>Jenny</th>\n      <td>30</td>\n      <td>teacher</td>\n    </tr>\n    <tr>\n      <th>Nate</th>\n      <td>31</td>\n      <td>developer</td>\n    </tr>\n  </tbody>\n</table>\n</div>"
     },
     "metadata": {},
     "execution_count": 33
    }
   ],
   "source": [
    "friend = [\n",
    "    {'age' : 25, 'job':'student'},\n",
    "    {'age': 30, 'job':'teacher'},\n",
    "    {'age': 31, 'job':'developer'}\n",
    "]\n",
    "df = pd.DataFrame(friend, index = ['John','Jenny','Nate'], columns=['age','job'])\n",
    "df"
   ]
  },
  {
   "cell_type": "code",
   "execution_count": 34,
   "metadata": {},
   "outputs": [
    {
     "output_type": "execute_result",
     "data": {
      "text/plain": [
       "       age      job\n",
       "Jenny   30  teacher"
      ],
      "text/html": "<div>\n<style scoped>\n    .dataframe tbody tr th:only-of-type {\n        vertical-align: middle;\n    }\n\n    .dataframe tbody tr th {\n        vertical-align: top;\n    }\n\n    .dataframe thead th {\n        text-align: right;\n    }\n</style>\n<table border=\"1\" class=\"dataframe\">\n  <thead>\n    <tr style=\"text-align: right;\">\n      <th></th>\n      <th>age</th>\n      <th>job</th>\n    </tr>\n  </thead>\n  <tbody>\n    <tr>\n      <th>Jenny</th>\n      <td>30</td>\n      <td>teacher</td>\n    </tr>\n  </tbody>\n</table>\n</div>"
     },
     "metadata": {},
     "execution_count": 34
    }
   ],
   "source": [
    "df.drop(df.index[[0,2]]) #원하는 row삭제"
   ]
  },
  {
   "cell_type": "code",
   "execution_count": 35,
   "metadata": {},
   "outputs": [
    {
     "output_type": "execute_result",
     "data": {
      "text/plain": [
       "             job\n",
       "John     student\n",
       "Jenny    teacher\n",
       "Nate   developer"
      ],
      "text/html": "<div>\n<style scoped>\n    .dataframe tbody tr th:only-of-type {\n        vertical-align: middle;\n    }\n\n    .dataframe tbody tr th {\n        vertical-align: top;\n    }\n\n    .dataframe thead th {\n        text-align: right;\n    }\n</style>\n<table border=\"1\" class=\"dataframe\">\n  <thead>\n    <tr style=\"text-align: right;\">\n      <th></th>\n      <th>job</th>\n    </tr>\n  </thead>\n  <tbody>\n    <tr>\n      <th>John</th>\n      <td>student</td>\n    </tr>\n    <tr>\n      <th>Jenny</th>\n      <td>teacher</td>\n    </tr>\n    <tr>\n      <th>Nate</th>\n      <td>developer</td>\n    </tr>\n  </tbody>\n</table>\n</div>"
     },
     "metadata": {},
     "execution_count": 35
    }
   ],
   "source": [
    "df.drop('age', axis=1) #column에서 age삭제"
   ]
  },
  {
   "cell_type": "code",
   "execution_count": 36,
   "metadata": {},
   "outputs": [
    {
     "output_type": "execute_result",
     "data": {
      "text/plain": [
       "       age        job  salary   hobby\n",
       "John    25    student       0  soccer\n",
       "Jenny   30    teacher       0   music\n",
       "Nate    31  developer       0    game"
      ],
      "text/html": "<div>\n<style scoped>\n    .dataframe tbody tr th:only-of-type {\n        vertical-align: middle;\n    }\n\n    .dataframe tbody tr th {\n        vertical-align: top;\n    }\n\n    .dataframe thead th {\n        text-align: right;\n    }\n</style>\n<table border=\"1\" class=\"dataframe\">\n  <thead>\n    <tr style=\"text-align: right;\">\n      <th></th>\n      <th>age</th>\n      <th>job</th>\n      <th>salary</th>\n      <th>hobby</th>\n    </tr>\n  </thead>\n  <tbody>\n    <tr>\n      <th>John</th>\n      <td>25</td>\n      <td>student</td>\n      <td>0</td>\n      <td>soccer</td>\n    </tr>\n    <tr>\n      <th>Jenny</th>\n      <td>30</td>\n      <td>teacher</td>\n      <td>0</td>\n      <td>music</td>\n    </tr>\n    <tr>\n      <th>Nate</th>\n      <td>31</td>\n      <td>developer</td>\n      <td>0</td>\n      <td>game</td>\n    </tr>\n  </tbody>\n</table>\n</div>"
     },
     "metadata": {},
     "execution_count": 36
    }
   ],
   "source": [
    "df['salary'] = 0\n",
    "df['hobby'] = 'soccer','music','game'\n",
    "\n",
    "df"
   ]
  },
  {
   "cell_type": "code",
   "execution_count": 37,
   "metadata": {},
   "outputs": [
    {
     "output_type": "execute_result",
     "data": {
      "text/plain": [
       "       age        job salary   hobby\n",
       "John    25    student     no  soccer\n",
       "Jenny   30    teacher    yes   music\n",
       "Nate    31  developer    yes    game"
      ],
      "text/html": "<div>\n<style scoped>\n    .dataframe tbody tr th:only-of-type {\n        vertical-align: middle;\n    }\n\n    .dataframe tbody tr th {\n        vertical-align: top;\n    }\n\n    .dataframe thead th {\n        text-align: right;\n    }\n</style>\n<table border=\"1\" class=\"dataframe\">\n  <thead>\n    <tr style=\"text-align: right;\">\n      <th></th>\n      <th>age</th>\n      <th>job</th>\n      <th>salary</th>\n      <th>hobby</th>\n    </tr>\n  </thead>\n  <tbody>\n    <tr>\n      <th>John</th>\n      <td>25</td>\n      <td>student</td>\n      <td>no</td>\n      <td>soccer</td>\n    </tr>\n    <tr>\n      <th>Jenny</th>\n      <td>30</td>\n      <td>teacher</td>\n      <td>yes</td>\n      <td>music</td>\n    </tr>\n    <tr>\n      <th>Nate</th>\n      <td>31</td>\n      <td>developer</td>\n      <td>yes</td>\n      <td>game</td>\n    </tr>\n  </tbody>\n</table>\n</div>"
     },
     "metadata": {},
     "execution_count": 37
    }
   ],
   "source": [
    "import numpy as np\n",
    "df['salary'] = np.where(df['job'] != 'student','yes','no')\n",
    "df.head()"
   ]
  },
  {
   "cell_type": "code",
   "execution_count": 38,
   "metadata": {},
   "outputs": [
    {
     "output_type": "execute_result",
     "data": {
      "text/plain": [
       "       age        job salary   hobby  midterm  final\n",
       "John    25    student     no  soccer       95     85\n",
       "Jenny   30    teacher    yes   music       85     80\n",
       "Nate    31  developer    yes    game       30     10"
      ],
      "text/html": "<div>\n<style scoped>\n    .dataframe tbody tr th:only-of-type {\n        vertical-align: middle;\n    }\n\n    .dataframe tbody tr th {\n        vertical-align: top;\n    }\n\n    .dataframe thead th {\n        text-align: right;\n    }\n</style>\n<table border=\"1\" class=\"dataframe\">\n  <thead>\n    <tr style=\"text-align: right;\">\n      <th></th>\n      <th>age</th>\n      <th>job</th>\n      <th>salary</th>\n      <th>hobby</th>\n      <th>midterm</th>\n      <th>final</th>\n    </tr>\n  </thead>\n  <tbody>\n    <tr>\n      <th>John</th>\n      <td>25</td>\n      <td>student</td>\n      <td>no</td>\n      <td>soccer</td>\n      <td>95</td>\n      <td>85</td>\n    </tr>\n    <tr>\n      <th>Jenny</th>\n      <td>30</td>\n      <td>teacher</td>\n      <td>yes</td>\n      <td>music</td>\n      <td>85</td>\n      <td>80</td>\n    </tr>\n    <tr>\n      <th>Nate</th>\n      <td>31</td>\n      <td>developer</td>\n      <td>yes</td>\n      <td>game</td>\n      <td>30</td>\n      <td>10</td>\n    </tr>\n  </tbody>\n</table>\n</div>"
     },
     "metadata": {},
     "execution_count": 38
    }
   ],
   "source": [
    "df['midterm'] = 95,85,30\n",
    "df['final'] = 85,80,10\n",
    "df.head()"
   ]
  },
  {
   "cell_type": "code",
   "execution_count": 39,
   "metadata": {},
   "outputs": [
    {
     "output_type": "execute_result",
     "data": {
      "text/plain": [
       "       age        job salary   hobby  midterm  final  total\n",
       "John    25    student     no  soccer       95     85    180\n",
       "Jenny   30    teacher    yes   music       85     80    165\n",
       "Nate    31  developer    yes    game       30     10     40"
      ],
      "text/html": "<div>\n<style scoped>\n    .dataframe tbody tr th:only-of-type {\n        vertical-align: middle;\n    }\n\n    .dataframe tbody tr th {\n        vertical-align: top;\n    }\n\n    .dataframe thead th {\n        text-align: right;\n    }\n</style>\n<table border=\"1\" class=\"dataframe\">\n  <thead>\n    <tr style=\"text-align: right;\">\n      <th></th>\n      <th>age</th>\n      <th>job</th>\n      <th>salary</th>\n      <th>hobby</th>\n      <th>midterm</th>\n      <th>final</th>\n      <th>total</th>\n    </tr>\n  </thead>\n  <tbody>\n    <tr>\n      <th>John</th>\n      <td>25</td>\n      <td>student</td>\n      <td>no</td>\n      <td>soccer</td>\n      <td>95</td>\n      <td>85</td>\n      <td>180</td>\n    </tr>\n    <tr>\n      <th>Jenny</th>\n      <td>30</td>\n      <td>teacher</td>\n      <td>yes</td>\n      <td>music</td>\n      <td>85</td>\n      <td>80</td>\n      <td>165</td>\n    </tr>\n    <tr>\n      <th>Nate</th>\n      <td>31</td>\n      <td>developer</td>\n      <td>yes</td>\n      <td>game</td>\n      <td>30</td>\n      <td>10</td>\n      <td>40</td>\n    </tr>\n  </tbody>\n</table>\n</div>"
     },
     "metadata": {},
     "execution_count": 39
    }
   ],
   "source": [
    "df['total'] = df['midterm'] + df['final']\n",
    "df.head()"
   ]
  },
  {
   "cell_type": "code",
   "execution_count": 40,
   "metadata": {},
   "outputs": [
    {
     "output_type": "execute_result",
     "data": {
      "text/plain": [
       "       age        job salary   hobby  midterm  final  total  average\n",
       "John    25    student     no  soccer       95     85    180     90.0\n",
       "Jenny   30    teacher    yes   music       85     80    165     82.5\n",
       "Nate    31  developer    yes    game       30     10     40     20.0"
      ],
      "text/html": "<div>\n<style scoped>\n    .dataframe tbody tr th:only-of-type {\n        vertical-align: middle;\n    }\n\n    .dataframe tbody tr th {\n        vertical-align: top;\n    }\n\n    .dataframe thead th {\n        text-align: right;\n    }\n</style>\n<table border=\"1\" class=\"dataframe\">\n  <thead>\n    <tr style=\"text-align: right;\">\n      <th></th>\n      <th>age</th>\n      <th>job</th>\n      <th>salary</th>\n      <th>hobby</th>\n      <th>midterm</th>\n      <th>final</th>\n      <th>total</th>\n      <th>average</th>\n    </tr>\n  </thead>\n  <tbody>\n    <tr>\n      <th>John</th>\n      <td>25</td>\n      <td>student</td>\n      <td>no</td>\n      <td>soccer</td>\n      <td>95</td>\n      <td>85</td>\n      <td>180</td>\n      <td>90.0</td>\n    </tr>\n    <tr>\n      <th>Jenny</th>\n      <td>30</td>\n      <td>teacher</td>\n      <td>yes</td>\n      <td>music</td>\n      <td>85</td>\n      <td>80</td>\n      <td>165</td>\n      <td>82.5</td>\n    </tr>\n    <tr>\n      <th>Nate</th>\n      <td>31</td>\n      <td>developer</td>\n      <td>yes</td>\n      <td>game</td>\n      <td>30</td>\n      <td>10</td>\n      <td>40</td>\n      <td>20.0</td>\n    </tr>\n  </tbody>\n</table>\n</div>"
     },
     "metadata": {},
     "execution_count": 40
    }
   ],
   "source": [
    "df['average'] = df['total'] / 2\n",
    "df.head()"
   ]
  },
  {
   "cell_type": "code",
   "execution_count": 41,
   "metadata": {},
   "outputs": [
    {
     "output_type": "execute_result",
     "data": {
      "text/plain": [
       "       age        job salary   hobby  midterm  final  total  average grade\n",
       "John    25    student     no  soccer       95     85    180     90.0     A\n",
       "Jenny   30    teacher    yes   music       85     80    165     82.5     B\n",
       "Nate    31  developer    yes    game       30     10     40     20.0     F"
      ],
      "text/html": "<div>\n<style scoped>\n    .dataframe tbody tr th:only-of-type {\n        vertical-align: middle;\n    }\n\n    .dataframe tbody tr th {\n        vertical-align: top;\n    }\n\n    .dataframe thead th {\n        text-align: right;\n    }\n</style>\n<table border=\"1\" class=\"dataframe\">\n  <thead>\n    <tr style=\"text-align: right;\">\n      <th></th>\n      <th>age</th>\n      <th>job</th>\n      <th>salary</th>\n      <th>hobby</th>\n      <th>midterm</th>\n      <th>final</th>\n      <th>total</th>\n      <th>average</th>\n      <th>grade</th>\n    </tr>\n  </thead>\n  <tbody>\n    <tr>\n      <th>John</th>\n      <td>25</td>\n      <td>student</td>\n      <td>no</td>\n      <td>soccer</td>\n      <td>95</td>\n      <td>85</td>\n      <td>180</td>\n      <td>90.0</td>\n      <td>A</td>\n    </tr>\n    <tr>\n      <th>Jenny</th>\n      <td>30</td>\n      <td>teacher</td>\n      <td>yes</td>\n      <td>music</td>\n      <td>85</td>\n      <td>80</td>\n      <td>165</td>\n      <td>82.5</td>\n      <td>B</td>\n    </tr>\n    <tr>\n      <th>Nate</th>\n      <td>31</td>\n      <td>developer</td>\n      <td>yes</td>\n      <td>game</td>\n      <td>30</td>\n      <td>10</td>\n      <td>40</td>\n      <td>20.0</td>\n      <td>F</td>\n    </tr>\n  </tbody>\n</table>\n</div>"
     },
     "metadata": {},
     "execution_count": 41
    }
   ],
   "source": [
    "grades = []\n",
    "for row in df['average']:\n",
    "    if row >= 90:\n",
    "        grades.append('A')\n",
    "    elif row >= 80:\n",
    "        grades.append('B')\n",
    "    else:\n",
    "        grades.append('F')\n",
    "df['grade'] = grades\n",
    "df.head()"
   ]
  },
  {
   "cell_type": "code",
   "execution_count": 42,
   "metadata": {},
   "outputs": [
    {
     "output_type": "execute_result",
     "data": {
      "text/plain": [
       "       age        job salary   hobby  midterm  final  total  average grade\n",
       "John    25    student     no  soccer       95     85    180     90.0  PASS\n",
       "Jenny   30    teacher    yes   music       85     80    165     82.5  PASS\n",
       "Nate    31  developer    yes    game       30     10     40     20.0  FAIL"
      ],
      "text/html": "<div>\n<style scoped>\n    .dataframe tbody tr th:only-of-type {\n        vertical-align: middle;\n    }\n\n    .dataframe tbody tr th {\n        vertical-align: top;\n    }\n\n    .dataframe thead th {\n        text-align: right;\n    }\n</style>\n<table border=\"1\" class=\"dataframe\">\n  <thead>\n    <tr style=\"text-align: right;\">\n      <th></th>\n      <th>age</th>\n      <th>job</th>\n      <th>salary</th>\n      <th>hobby</th>\n      <th>midterm</th>\n      <th>final</th>\n      <th>total</th>\n      <th>average</th>\n      <th>grade</th>\n    </tr>\n  </thead>\n  <tbody>\n    <tr>\n      <th>John</th>\n      <td>25</td>\n      <td>student</td>\n      <td>no</td>\n      <td>soccer</td>\n      <td>95</td>\n      <td>85</td>\n      <td>180</td>\n      <td>90.0</td>\n      <td>PASS</td>\n    </tr>\n    <tr>\n      <th>Jenny</th>\n      <td>30</td>\n      <td>teacher</td>\n      <td>yes</td>\n      <td>music</td>\n      <td>85</td>\n      <td>80</td>\n      <td>165</td>\n      <td>82.5</td>\n      <td>PASS</td>\n    </tr>\n    <tr>\n      <th>Nate</th>\n      <td>31</td>\n      <td>developer</td>\n      <td>yes</td>\n      <td>game</td>\n      <td>30</td>\n      <td>10</td>\n      <td>40</td>\n      <td>20.0</td>\n      <td>FAIL</td>\n    </tr>\n  </tbody>\n</table>\n</div>"
     },
     "metadata": {},
     "execution_count": 42
    }
   ],
   "source": [
    "def pass_or_fail(row):\n",
    "    if row != 'F':\n",
    "        return \"PASS\"\n",
    "    else:\n",
    "        return \"FAIL\"\n",
    "df.grade = df.grade.apply(pass_or_fail)\n",
    "df.head()"
   ]
  },
  {
   "cell_type": "code",
   "execution_count": 43,
   "metadata": {},
   "outputs": [
    {
     "output_type": "execute_result",
     "data": {
      "text/plain": [
       "   yyyy-mm-dd\n",
       "0  2020-01-01\n",
       "1  2021-02-01"
      ],
      "text/html": "<div>\n<style scoped>\n    .dataframe tbody tr th:only-of-type {\n        vertical-align: middle;\n    }\n\n    .dataframe tbody tr th {\n        vertical-align: top;\n    }\n\n    .dataframe thead th {\n        text-align: right;\n    }\n</style>\n<table border=\"1\" class=\"dataframe\">\n  <thead>\n    <tr style=\"text-align: right;\">\n      <th></th>\n      <th>yyyy-mm-dd</th>\n    </tr>\n  </thead>\n  <tbody>\n    <tr>\n      <th>0</th>\n      <td>2020-01-01</td>\n    </tr>\n    <tr>\n      <th>1</th>\n      <td>2021-02-01</td>\n    </tr>\n  </tbody>\n</table>\n</div>"
     },
     "metadata": {},
     "execution_count": 43
    }
   ],
   "source": [
    "date_list = [\n",
    "    {'yyyy-mm-dd' : '2020-01-01'},\n",
    "    {'yyyy-mm-dd' : '2021-02-01'},\n",
    "]\n",
    "df = pd.DataFrame(date_list,columns = ['yyyy-mm-dd'])\n",
    "df.head()"
   ]
  },
  {
   "cell_type": "code",
   "execution_count": 46,
   "metadata": {},
   "outputs": [
    {
     "output_type": "execute_result",
     "data": {
      "text/plain": [
       "   yyyy-mm-dd  year\n",
       "0  2020-01-01  2020\n",
       "1  2021-02-01  2021"
      ],
      "text/html": "<div>\n<style scoped>\n    .dataframe tbody tr th:only-of-type {\n        vertical-align: middle;\n    }\n\n    .dataframe tbody tr th {\n        vertical-align: top;\n    }\n\n    .dataframe thead th {\n        text-align: right;\n    }\n</style>\n<table border=\"1\" class=\"dataframe\">\n  <thead>\n    <tr style=\"text-align: right;\">\n      <th></th>\n      <th>yyyy-mm-dd</th>\n      <th>year</th>\n    </tr>\n  </thead>\n  <tbody>\n    <tr>\n      <th>0</th>\n      <td>2020-01-01</td>\n      <td>2020</td>\n    </tr>\n    <tr>\n      <th>1</th>\n      <td>2021-02-01</td>\n      <td>2021</td>\n    </tr>\n  </tbody>\n</table>\n</div>"
     },
     "metadata": {},
     "execution_count": 46
    }
   ],
   "source": [
    "def extract_year(row):\n",
    "    return row.split('-')[0]\n",
    "df['year'] = df['yyyy-mm-dd'].apply(extract_year)\n",
    "df.head()"
   ]
  },
  {
   "cell_type": "code",
   "execution_count": 54,
   "metadata": {},
   "outputs": [
    {
     "output_type": "execute_result",
     "data": {
      "text/plain": [
       "   yyyy-mm-dd  year  age          introduce\n",
       "0  2020-01-01  2020   -2  I amage years old\n",
       "1  2021-02-01  2021   -3  I amage years old"
      ],
      "text/html": "<div>\n<style scoped>\n    .dataframe tbody tr th:only-of-type {\n        vertical-align: middle;\n    }\n\n    .dataframe tbody tr th {\n        vertical-align: top;\n    }\n\n    .dataframe thead th {\n        text-align: right;\n    }\n</style>\n<table border=\"1\" class=\"dataframe\">\n  <thead>\n    <tr style=\"text-align: right;\">\n      <th></th>\n      <th>yyyy-mm-dd</th>\n      <th>year</th>\n      <th>age</th>\n      <th>introduce</th>\n    </tr>\n  </thead>\n  <tbody>\n    <tr>\n      <th>0</th>\n      <td>2020-01-01</td>\n      <td>2020</td>\n      <td>-2</td>\n      <td>I amage years old</td>\n    </tr>\n    <tr>\n      <th>1</th>\n      <td>2021-02-01</td>\n      <td>2021</td>\n      <td>-3</td>\n      <td>I amage years old</td>\n    </tr>\n  </tbody>\n</table>\n</div>"
     },
     "metadata": {},
     "execution_count": 54
    }
   ],
   "source": [
    "def get_age(year, currnet_year):\n",
    "    return currnet_year - int(year)\n",
    "df['age'] = df['year'].apply(get_age,currnet_year=2018)\n",
    "df"
   ]
  },
  {
   "cell_type": "code",
   "execution_count": 70,
   "metadata": {},
   "outputs": [
    {
     "output_type": "execute_result",
     "data": {
      "text/plain": [
       "   yyyy-mm-dd  year  age         introduce                      introduce2\n",
       "0  2020-01-01  2020   -2  I am-2 years old  i was born in 2020 my age is-2\n",
       "1  2021-02-01  2021   -3  I am-3 years old  i was born in 2021 my age is-3"
      ],
      "text/html": "<div>\n<style scoped>\n    .dataframe tbody tr th:only-of-type {\n        vertical-align: middle;\n    }\n\n    .dataframe tbody tr th {\n        vertical-align: top;\n    }\n\n    .dataframe thead th {\n        text-align: right;\n    }\n</style>\n<table border=\"1\" class=\"dataframe\">\n  <thead>\n    <tr style=\"text-align: right;\">\n      <th></th>\n      <th>yyyy-mm-dd</th>\n      <th>year</th>\n      <th>age</th>\n      <th>introduce</th>\n      <th>introduce2</th>\n    </tr>\n  </thead>\n  <tbody>\n    <tr>\n      <th>0</th>\n      <td>2020-01-01</td>\n      <td>2020</td>\n      <td>-2</td>\n      <td>I am-2 years old</td>\n      <td>i was born in 2020 my age is-2</td>\n    </tr>\n    <tr>\n      <th>1</th>\n      <td>2021-02-01</td>\n      <td>2021</td>\n      <td>-3</td>\n      <td>I am-3 years old</td>\n      <td>i was born in 2021 my age is-3</td>\n    </tr>\n  </tbody>\n</table>\n</div>"
     },
     "metadata": {},
     "execution_count": 70
    }
   ],
   "source": [
    "def get_introduce(age,prefix,suffix):\n",
    "    return prefix + str(age) + suffix \n",
    "df['introduce'] = df['age'].apply(get_introduce, prefix=\"I am\",suffix=\" years old\")\n",
    "df"
   ]
  },
  {
   "cell_type": "code",
   "execution_count": 71,
   "metadata": {},
   "outputs": [
    {
     "output_type": "execute_result",
     "data": {
      "text/plain": [
       "   yyyy-mm-dd  year  age         introduce                      introduce2\n",
       "0  2020-01-01  2020   -2  I am-2 years old  i was born in 2020 my age is-2\n",
       "1  2021-02-01  2021   -3  I am-3 years old  i was born in 2021 my age is-3"
      ],
      "text/html": "<div>\n<style scoped>\n    .dataframe tbody tr th:only-of-type {\n        vertical-align: middle;\n    }\n\n    .dataframe tbody tr th {\n        vertical-align: top;\n    }\n\n    .dataframe thead th {\n        text-align: right;\n    }\n</style>\n<table border=\"1\" class=\"dataframe\">\n  <thead>\n    <tr style=\"text-align: right;\">\n      <th></th>\n      <th>yyyy-mm-dd</th>\n      <th>year</th>\n      <th>age</th>\n      <th>introduce</th>\n      <th>introduce2</th>\n    </tr>\n  </thead>\n  <tbody>\n    <tr>\n      <th>0</th>\n      <td>2020-01-01</td>\n      <td>2020</td>\n      <td>-2</td>\n      <td>I am-2 years old</td>\n      <td>i was born in 2020 my age is-2</td>\n    </tr>\n    <tr>\n      <th>1</th>\n      <td>2021-02-01</td>\n      <td>2021</td>\n      <td>-3</td>\n      <td>I am-3 years old</td>\n      <td>i was born in 2021 my age is-3</td>\n    </tr>\n  </tbody>\n</table>\n</div>"
     },
     "metadata": {},
     "execution_count": 71
    }
   ],
   "source": [
    "def get_introduce_2(row):\n",
    "    return \"i was born in \" + str(row.year) + \" my age is\" + str(row.age)\n",
    "# df.introduce = df.apply(get_introduce_2, axis=1)\n",
    "df['introduce2'] = df.apply(get_introduce_2, axis=1)\n",
    "df"
   ]
  },
  {
   "cell_type": "code",
   "execution_count": 46,
   "metadata": {},
   "outputs": [
    {
     "output_type": "execute_result",
     "data": {
      "text/plain": [
       "      name  midterm  final\n",
       "0     John       90     85\n",
       "1    Jassy       85     80\n",
       "2  carrick       50     85"
      ],
      "text/html": "<div>\n<style scoped>\n    .dataframe tbody tr th:only-of-type {\n        vertical-align: middle;\n    }\n\n    .dataframe tbody tr th {\n        vertical-align: top;\n    }\n\n    .dataframe thead th {\n        text-align: right;\n    }\n</style>\n<table border=\"1\" class=\"dataframe\">\n  <thead>\n    <tr style=\"text-align: right;\">\n      <th></th>\n      <th>name</th>\n      <th>midterm</th>\n      <th>final</th>\n    </tr>\n  </thead>\n  <tbody>\n    <tr>\n      <th>0</th>\n      <td>John</td>\n      <td>90</td>\n      <td>85</td>\n    </tr>\n    <tr>\n      <th>1</th>\n      <td>Jassy</td>\n      <td>85</td>\n      <td>80</td>\n    </tr>\n    <tr>\n      <th>2</th>\n      <td>carrick</td>\n      <td>50</td>\n      <td>85</td>\n    </tr>\n  </tbody>\n</table>\n</div>"
     },
     "metadata": {},
     "execution_count": 46
    }
   ],
   "source": [
    "scores = [\n",
    "    {'name' : 'John', 'midterm': 90, 'final':85},\n",
    "    {'name' : 'Jassy', 'midterm': 85, 'final':80},\n",
    "    {'name' : 'carrick', 'midterm': 50, 'final':85},\n",
    "]\n",
    "df = pd.DataFrame(scores, columns=['name','midterm','final'])\n",
    "df.head()"
   ]
  },
  {
   "cell_type": "code",
   "execution_count": 49,
   "metadata": {},
   "outputs": [
    {
     "output_type": "execute_result",
     "data": {
      "text/plain": [
       "  name  midterm  final\n",
       "0  Ben       50     50"
      ],
      "text/html": "<div>\n<style scoped>\n    .dataframe tbody tr th:only-of-type {\n        vertical-align: middle;\n    }\n\n    .dataframe tbody tr th {\n        vertical-align: top;\n    }\n\n    .dataframe thead th {\n        text-align: right;\n    }\n</style>\n<table border=\"1\" class=\"dataframe\">\n  <thead>\n    <tr style=\"text-align: right;\">\n      <th></th>\n      <th>name</th>\n      <th>midterm</th>\n      <th>final</th>\n    </tr>\n  </thead>\n  <tbody>\n    <tr>\n      <th>0</th>\n      <td>Ben</td>\n      <td>50</td>\n      <td>50</td>\n    </tr>\n  </tbody>\n</table>\n</div>"
     },
     "metadata": {},
     "execution_count": 49
    }
   ],
   "source": [
    "df2 = pd.DataFrame(\n",
    "    [['Ben',50,50]], columns = ['name','midterm','final']\n",
    ")\n",
    "df2.head()"
   ]
  },
  {
   "cell_type": "code",
   "execution_count": 50,
   "metadata": {},
   "outputs": [
    {
     "output_type": "execute_result",
     "data": {
      "text/plain": [
       "      name  midterm  final\n",
       "0     John       90     85\n",
       "1    Jassy       85     80\n",
       "2  carrick       50     85\n",
       "3      Ben       50     50"
      ],
      "text/html": "<div>\n<style scoped>\n    .dataframe tbody tr th:only-of-type {\n        vertical-align: middle;\n    }\n\n    .dataframe tbody tr th {\n        vertical-align: top;\n    }\n\n    .dataframe thead th {\n        text-align: right;\n    }\n</style>\n<table border=\"1\" class=\"dataframe\">\n  <thead>\n    <tr style=\"text-align: right;\">\n      <th></th>\n      <th>name</th>\n      <th>midterm</th>\n      <th>final</th>\n    </tr>\n  </thead>\n  <tbody>\n    <tr>\n      <th>0</th>\n      <td>John</td>\n      <td>90</td>\n      <td>85</td>\n    </tr>\n    <tr>\n      <th>1</th>\n      <td>Jassy</td>\n      <td>85</td>\n      <td>80</td>\n    </tr>\n    <tr>\n      <th>2</th>\n      <td>carrick</td>\n      <td>50</td>\n      <td>85</td>\n    </tr>\n    <tr>\n      <th>3</th>\n      <td>Ben</td>\n      <td>50</td>\n      <td>50</td>\n    </tr>\n  </tbody>\n</table>\n</div>"
     },
     "metadata": {},
     "execution_count": 50
    }
   ],
   "source": [
    "df.append(df2, ignore_index = True)  #표 합치기"
   ]
  },
  {
   "cell_type": "code",
   "execution_count": null,
   "metadata": {},
   "outputs": [],
   "source": []
  }
 ]
}