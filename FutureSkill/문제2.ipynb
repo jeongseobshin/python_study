{
 "metadata": {
  "language_info": {
   "codemirror_mode": {
    "name": "ipython",
    "version": 3
   },
   "file_extension": ".py",
   "mimetype": "text/x-python",
   "name": "python",
   "nbconvert_exporter": "python",
   "pygments_lexer": "ipython3",
   "version": "3.8.0-final"
  },
  "orig_nbformat": 2,
  "kernelspec": {
   "name": "python3",
   "display_name": "Python 3.8.0 64-bit (conda)",
   "metadata": {
    "interpreter": {
     "hash": "6a9c5f7e38eda6bb4056c7e5c5c39583671ed8263856ba82e18e893be8cc78ca"
    }
   }
  }
 },
 "nbformat": 4,
 "nbformat_minor": 2,
 "cells": [
  {
   "cell_type": "code",
   "execution_count": 1,
   "metadata": {},
   "outputs": [
    {
     "output_type": "stream",
     "name": "stdout",
     "text": [
      "[1, 2]\n[1]\n[]\n"
     ]
    }
   ],
   "source": [
    "'''\n",
    "1번 : drop right\n",
    "오른쪽으로부터 n개의 값이 끝에서부터 제거된 리스트를 반환하는 코드를 작성하세요.\n",
    "'''\n",
    "\n",
    "def drop_right(lst, n=1):\n",
    "    return lst[:-n]\n",
    "\n",
    "print(drop_right([1,2,3]))\n",
    "print(drop_right([1,2,3],2))\n",
    "print(drop_right([1,2,3],42))"
   ]
  },
  {
   "cell_type": "code",
   "execution_count": 2,
   "metadata": {},
   "outputs": [
    {
     "output_type": "stream",
     "name": "stdout",
     "text": [
      "[2, 4, 6]\n[3, 6]\n"
     ]
    }
   ],
   "source": [
    "'''\n",
    "2번 : every nth\n",
    "리스트의 모든 n번째 원소를 출력하는 코드를 작성하세요.\n",
    "'''\n",
    "lst = [1,2,3,4,5,6]\n",
    "\n",
    "def every_nth(lst, n):\n",
    "\treturn lst[n-1::n]\n",
    "\n",
    "print(every_nth(lst, 2)) #2칸씩\n",
    "print(every_nth(lst, 3)) #3칸씩"
   ]
  },
  {
   "cell_type": "code",
   "execution_count": 3,
   "metadata": {},
   "outputs": [
    {
     "output_type": "stream",
     "name": "stdout",
     "text": [
      "25.0\n"
     ]
    }
   ],
   "source": [
    "'''\n",
    "3번 : fahrenheit to celsius\n",
    "화씨온도를 섭씨온도로 바꾸는 코드를 작성하세요.\n",
    "'''\n",
    "\n",
    "def fahrenheit_to_celsius(fahrenheit):\n",
    "\treturn ((fahrenheit - 32) / 1.8)\n",
    "\n",
    "print(fahrenheit_to_celsius(77))"
   ]
  },
  {
   "cell_type": "code",
   "execution_count": 4,
   "metadata": {},
   "outputs": [
    {
     "output_type": "stream",
     "name": "stdout",
     "text": [
      "[1, 3, 5]\n[('l', 3)]\n"
     ]
    }
   ],
   "source": [
    "'''\n",
    "4번 : filter non-unique **************\n",
    "리스트에서 고유하지 않은(non-unique) 값들을 제거하는 코드를 작성하세요.\n",
    "'''\n",
    "from collections import Counter\n",
    "\n",
    "lst = [1,2,2,3,4,4,5]\n",
    "\n",
    "def filter_non_unique(lst):\n",
    "\treturn [item for item, count in Counter(lst).items() if count == 1]\n",
    "\n",
    "print(filter_non_unique(lst))\n",
    "\n",
    "print(Counter('hello world').most_common(1))"
   ]
  },
  {
   "cell_type": "code",
   "execution_count": 5,
   "metadata": {},
   "outputs": [
    {
     "output_type": "execute_result",
     "data": {
      "text/plain": [
       "[2, 4]"
      ]
     },
     "metadata": {},
     "execution_count": 5
    }
   ],
   "source": [
    "'''\n",
    "5번 : filter unique\n",
    "리스트에서 고유한(unique) 값들만 제거하는 코드를 작성하세요.\n",
    "'''\n",
    "\n",
    "lst = [1,2,2,3,4,4,5]\n",
    "\n",
    "def filter_unique(lst):\n",
    "\treturn [item for item, count in Counter(lst).items() if count > 1]\n",
    "\n",
    "filter_unique(lst)"
   ]
  },
  {
   "cell_type": "code",
   "execution_count": 6,
   "metadata": {},
   "outputs": [
    {
     "output_type": "stream",
     "name": "stdout",
     "text": [
      "1\n2\n3\nNone\n"
     ]
    }
   ],
   "source": [
    "'''\n",
    "6번 : for each\n",
    "itr 리스트의 각 원소에 주어진 함수 fn를 실행하는 함수를 작성하세요.\n",
    "'''\n",
    "\n",
    "itr = [1,2,3]\n",
    "fn = print\n",
    "\n",
    "def for_each(itr, fn):\n",
    "    for el in itr:\n",
    "        fn(el)\n",
    "\n",
    "print(for_each(itr, fn))"
   ]
  },
  {
   "cell_type": "code",
   "execution_count": 7,
   "metadata": {},
   "outputs": [
    {
     "output_type": "stream",
     "name": "stdout",
     "text": [
      "3\n2\n1\n"
     ]
    }
   ],
   "source": [
    "'''\n",
    "7번 : for each right\n",
    "itr 리스트의 각 원소에 주어진 함수 fn를 리스트의 마지막 값부터 실행하는 함수를 작성하세요.\n",
    "'''\n",
    "\n",
    "itr = [1,2,3]\n",
    "\n",
    "def for_each_right(itr, fn):\n",
    "    for i in itr[::-1]:\n",
    "        fn(i)\n",
    "\n",
    "for_each_right(itr, print)"
   ]
  },
  {
   "cell_type": "code",
   "execution_count": 8,
   "metadata": {},
   "outputs": [
    {
     "output_type": "stream",
     "name": "stdout",
     "text": [
      "True\nTrue\nFalse\n"
     ]
    }
   ],
   "source": [
    "'''\n",
    "8번 : has duplicates\n",
    "리스트에 중복된 값이 있다면 True를 없다면 False를 반환하는 코드를 작성하세요.\n",
    "'''\n",
    "#첫번째 방법\n",
    "from collections import Counter\n",
    "\n",
    "lst = [1,1,2,3]\n",
    "\n",
    "def has_duplicates(lst):\n",
    "    for item, count in Counter(lst).items():\n",
    "        if count == 1:\n",
    "            return False\n",
    "        else:\n",
    "            return True\n",
    "print(has_duplicates(lst))\n",
    "\n",
    "#두번째 방법\n",
    "x = [1,1,2,3,4,5]\n",
    "y = [1,2,3,4,5]\n",
    "\n",
    "def has_duplicates(lst1):\n",
    "    return len(lst1) != len(set(lst1)) #set함수는 중복돤 값을 제거해준다\n",
    "print(has_duplicates(x))\n",
    "print(has_duplicates(y))\n"
   ]
  },
  {
   "cell_type": "code",
   "execution_count": 9,
   "metadata": {},
   "outputs": [
    {
     "output_type": "execute_result",
     "data": {
      "text/plain": [
       "1"
      ]
     },
     "metadata": {},
     "execution_count": 9
    }
   ],
   "source": [
    "'''\n",
    "9번 : head\n",
    "리스트의 첫번째 값을 반환하는 코드를 작성하세요.\n",
    "'''\n",
    "\n",
    "lst = [1,2,3]\n",
    "\n",
    "def head(lst):\n",
    "\treturn lst[0]\n",
    "\n",
    "head(lst)"
   ]
  },
  {
   "cell_type": "code",
   "execution_count": 10,
   "metadata": {},
   "outputs": [
    {
     "output_type": "stream",
     "name": "stdout",
     "text": [
      "True\nTrue\nFalse\nFalse\n"
     ]
    }
   ],
   "source": [
    "'''\n",
    "10번 : in range\n",
    "n이 start 와 end 사이에 있는 값인지 확인하는 코드를 작성하세요.\n",
    "(단, end 를 지정하지 않을 경우, 0 부터 start 까지로 간주하도록 하세요.)\n",
    "'''\n",
    "\n",
    "def in_range(n, start, end=0):\n",
    "    if start <  n < end or end < n < start:\n",
    "        return True\n",
    "    else:\n",
    "        return False\n",
    "\n",
    "print(in_range(3,2,5))\n",
    "print(in_range(3,4))\n",
    "print(in_range(2,3,5))\n",
    "print(in_range(3,2))"
   ]
  },
  {
   "cell_type": "code",
   "execution_count": 1,
   "metadata": {},
   "outputs": [
    {
     "output_type": "stream",
     "name": "stdout",
     "text": [
      "2.2.0\n"
     ]
    }
   ],
   "source": []
  }
 ]
}