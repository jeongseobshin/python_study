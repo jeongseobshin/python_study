{
 "metadata": {
  "language_info": {
   "codemirror_mode": {
    "name": "ipython",
    "version": 3
   },
   "file_extension": ".py",
   "mimetype": "text/x-python",
   "name": "python",
   "nbconvert_exporter": "python",
   "pygments_lexer": "ipython3",
   "version": "3.7.7-final"
  },
  "orig_nbformat": 2,
  "kernelspec": {
   "name": "python3",
   "display_name": "Python 3.7.7 64-bit ('dvm': conda)",
   "metadata": {
    "interpreter": {
     "hash": "72402d38f153c7a09d76b83c353e1a771029e988b0e3167e2d4cb69a1cd6bdaa"
    }
   }
  }
 },
 "nbformat": 4,
 "nbformat_minor": 2,
 "cells": [
  {
   "cell_type": "code",
   "execution_count": 6,
   "metadata": {},
   "outputs": [
    {
     "output_type": "error",
     "ename": "NameError",
     "evalue": "name 'test' is not defined",
     "traceback": [
      "\u001b[0;31m---------------------------------------------------------------------------\u001b[0m",
      "\u001b[0;31mNameError\u001b[0m                                 Traceback (most recent call last)",
      "\u001b[0;32m<ipython-input-6-74fc69d0b058>\u001b[0m in \u001b[0;36m<module>\u001b[0;34m\u001b[0m\n\u001b[1;32m     31\u001b[0m             \u001b[0mres\u001b[0m \u001b[0;34m=\u001b[0m \u001b[0mtest\u001b[0m\u001b[0;34m(\u001b[0m\u001b[0mres\u001b[0m\u001b[0;34m)\u001b[0m\u001b[0;34m\u001b[0m\u001b[0;34m\u001b[0m\u001b[0m\n\u001b[1;32m     32\u001b[0m     \u001b[0;32mreturn\u001b[0m \u001b[0mres\u001b[0m\u001b[0;34m\u001b[0m\u001b[0;34m\u001b[0m\u001b[0m\n\u001b[0;32m---> 33\u001b[0;31m \u001b[0mprint\u001b[0m\u001b[0;34m(\u001b[0m\u001b[0msoultion\u001b[0m\u001b[0;34m(\u001b[0m\u001b[0mfoo\u001b[0m\u001b[0;34m)\u001b[0m\u001b[0;34m)\u001b[0m\u001b[0;34m\u001b[0m\u001b[0;34m\u001b[0m\u001b[0m\n\u001b[0m",
      "\u001b[0;32m<ipython-input-6-74fc69d0b058>\u001b[0m in \u001b[0;36msoultion\u001b[0;34m(N)\u001b[0m\n\u001b[1;32m     29\u001b[0m     \u001b[0;32melse\u001b[0m\u001b[0;34m:\u001b[0m\u001b[0;34m\u001b[0m\u001b[0;34m\u001b[0m\u001b[0m\n\u001b[1;32m     30\u001b[0m         \u001b[0;32mfor\u001b[0m \u001b[0mi\u001b[0m \u001b[0;32min\u001b[0m \u001b[0mrange\u001b[0m\u001b[0;34m(\u001b[0m\u001b[0mN\u001b[0m\u001b[0;34m-\u001b[0m\u001b[0;36m1\u001b[0m\u001b[0;34m)\u001b[0m\u001b[0;34m:\u001b[0m\u001b[0;34m\u001b[0m\u001b[0;34m\u001b[0m\u001b[0m\n\u001b[0;32m---> 31\u001b[0;31m             \u001b[0mres\u001b[0m \u001b[0;34m=\u001b[0m \u001b[0mtest\u001b[0m\u001b[0;34m(\u001b[0m\u001b[0mres\u001b[0m\u001b[0;34m)\u001b[0m\u001b[0;34m\u001b[0m\u001b[0;34m\u001b[0m\u001b[0m\n\u001b[0m\u001b[1;32m     32\u001b[0m     \u001b[0;32mreturn\u001b[0m \u001b[0mres\u001b[0m\u001b[0;34m\u001b[0m\u001b[0;34m\u001b[0m\u001b[0m\n\u001b[1;32m     33\u001b[0m \u001b[0mprint\u001b[0m\u001b[0;34m(\u001b[0m\u001b[0msoultion\u001b[0m\u001b[0;34m(\u001b[0m\u001b[0mfoo\u001b[0m\u001b[0;34m)\u001b[0m\u001b[0;34m)\u001b[0m\u001b[0;34m\u001b[0m\u001b[0;34m\u001b[0m\u001b[0m\n",
      "\u001b[0;31mNameError\u001b[0m: name 'test' is not defined"
     ]
    }
   ],
   "source": [
    "'''\n",
    "1번 : 숫자놀이\n",
    "진행횟수 nn 을 입력 받아, 아래 조건에 해당되는 수를 출력하는 코드를 작성하세요.\n",
    "\n",
    "조건\n",
    "n 번째에 1121 이라는 숫자가 있었다면, 1이 3개 있고, 2이 1개 있다고 해석하여\n",
    "n+1 번째에 1321 이라는 숫자를 입력합니다. 해당 규칙을 계속해서 적용합니다. (단, 시작하는 1번의 숫자는 1입니다.)\n",
    "1 # 1로 시작합니다.\n",
    "11 # 이전번에는 1이 1개 있었습니다.\n",
    "12 # 이전번에는 1이 2개 있었습니다.\n",
    "1121 # 이전번에는 1이 1개, 2가 1개 있었습니다.\n",
    "1321 # 이전번에는 1이 3개, 2가 1개 있었습니다.\n",
    "122131 # 이전번에는 1이 2개, 2가 1개, 3이 1개 있었습니다.\n",
    "132231 # 이전번에는 1이 3개, 2가 2개, 3이 1개 있었습니다.\n",
    "'''\n",
    "foo = int(input())\n",
    "\n",
    "\n",
    "def check(n) :\n",
    "    max_n = max([int(i) for i in str(n)])\n",
    "    cnt = [ str(i)+str(str(n).count(str(i))) for i in range(1,max_n+1) ]\n",
    "    return ''.join(cnt)\n",
    "\n",
    "\n",
    "def soultion(N):\n",
    "    res = 1\n",
    "    if N == 1:\n",
    "        return res\n",
    "    else:\n",
    "        for i in range(N-1):\n",
    "            res = test(res)\n",
    "    return res\n",
    "print(soultion(foo))"
   ]
  },
  {
   "cell_type": "code",
   "execution_count": 23,
   "metadata": {},
   "outputs": [
    {
     "output_type": "stream",
     "name": "stdout",
     "text": [
      "['pass', 'pass']\n"
     ]
    }
   ],
   "source": [
    "'''\n",
    "2번 : 토끼들의 행진\n",
    "토끼들이 징검다리를 건너고 있습니다.\n",
    "이 때, 돌의 내구도와 토끼의 점프력을 입력으로 받아, 대기중인 토끼들이 통과할 수 있는지 여부를 출력하는 코드를 작성해주세요.\n",
    "\n",
    "조건\n",
    "토끼들이 징검다리를 건너려고 합니다. 하지만 돌이 부실해서 몇번 건너지 못할것 같습니다.\n",
    "각 돌들이 얼마나 버틸수 있는지, 즉 돌의 내구도가 배열로 주어져있습니다.\n",
    "각 토끼가 착지할때 마다 돌의 내구도는 1씩 감소합니다.\n",
    "[1,2,1,4] 란, 각 돌마다 1마리, 2마리, 1마리, 4마리의 착지를 버틸 수 있음을 의미합니다.\n",
    "대기하고 있는 여러 토끼들은 각각 다른 점프력을 갖고 있습니다.\n",
    "[2,1] 이란, 첫번째 토끼는 2칸씩 두번째 토끼는 1칸씩 점프함을 의미합니다.\n",
    "각 토끼들은 인덱스가 작은 순서대로, 먼저 다리를 건넙니다.\n",
    "'''\n",
    "stoneDurability = [1, 2, 1, 4]\n",
    "rabbitAbility = [2, 1]\n",
    "\n",
    "def simulate(stoneDurability, rabbitAbility):\n",
    "    res = [\"pass\" for i in range(len(rabbitAbility))]\n",
    "    for i in range(len(rabbitAbility)):\n",
    "        p = 0\n",
    "        while p<len(stoneDurability)-1:\n",
    "            p += rabbitAbility[i]\n",
    "            stoneDurability[p-1]-=1\n",
    "            if stoneDurability[p-1]<0:\n",
    "                answer[i] = \"fail\"\n",
    "                \n",
    "    print(res)\n",
    "simulate(stoneDurability, rabbitAbility)"
   ]
  },
  {
   "cell_type": "code",
   "execution_count": 51,
   "metadata": {},
   "outputs": [
    {
     "output_type": "stream",
     "name": "stdout",
     "text": [
      "input : ['H', 'X', 'I', 'M', 'G', 'E', 'T', 'Y']\n"
     ]
    },
    {
     "output_type": "execute_result",
     "data": {
      "text/plain": [
       "[['C', 'Y', 'M', 'N', 'I', 'V', 'J', 'T'],\n",
       " ['W', 'K', 'D', 'F', 'H', 'M', 'G', 'Y'],\n",
       " ['A', 'M', 'F', 'X', 'C', 'W', 'T', 'I'],\n",
       " ['J', 'H', 'Q', 'M', 'A', 'G', 'Y', 'Z'],\n",
       " ['H', 'G', 'B', 'K', 'W', 'E', 'V', 'I'],\n",
       " ['I', 'T', 'M', 'P', 'S', 'K', 'B', 'H'],\n",
       " ['Y', 'C', 'U', 'H', 'X', 'J', 'G', 'S'],\n",
       " ['Y', 'I', 'G', 'F', 'N', 'L', 'E', 'A'],\n",
       " ['X', 'B', 'T', 'G', 'V', 'K', 'A', 'Y'],\n",
       " ['E', 'C', 'Z', 'O', 'I', 'G', 'T', 'J'],\n",
       " ['R', 'T', 'I', 'A', 'Y', 'W', 'E', 'N'],\n",
       " ['L', 'M', 'T', 'B', 'G', 'J', 'R', 'E'],\n",
       " ['Y', 'R', 'G', 'W', 'M', 'I', 'Z', 'S'],\n",
       " ['Y', 'A', 'G', 'L', 'T', 'N', 'Q', 'I']]"
      ]
     },
     "metadata": {},
     "execution_count": 51
    }
   ],
   "source": [
    "'''\n",
    "3번 : 같은 의약 성분을 찾아라\n",
    "특정 약품의 성분의 정보가 주어질 때, 이와 유사한 구성 성분을 가진 약품을 찾아내는 코드를 작성하세요.\n",
    "\n",
    "조건\n",
    "약품 하나는 총 8개의 성분을 갖고 있다고 가정합니다. 예를들어 다음과 같이 나타낼 수 있습니다.\n",
    "단, 유사하다는 것은 '구성 성분이 4개 일치'하는 것으로 합니다. 4개 이상이 아닌, 4개 입니다.\n",
    "'판콜비' = 'ABCDEFGH', '타이레놀' = 'EGFHIJKL' 두 약은 E,F,G,H 가 동일하므로 유사합니다.\n",
    "또한, 하나의 약은 2개 이상의 동일한 구성 성분을 가지지 않습니다. 즉 'AAABBBAA'는 존재할 수 없습니다.\n",
    "'''\n",
    "import random\n",
    "\n",
    "l = [chr(i) for i in range(65, 91)] #chr :문자형      #대문자 : 65 ~ 91   #소문자 : 97 ~ 123\n",
    "\n",
    "medicine = []\n",
    "total_medicine = []\n",
    "similar_medicine = []\n",
    "\n",
    "\n",
    "for i in range(8):\n",
    "    medicine.append(random.choice(l))\n",
    "print('input :', medicine)\n",
    "for i in range(100):\n",
    "    total_medicine.append(random.sample(l, 8)) # l에서 random으로 8개만 뽑는다.\n",
    "\n",
    "for i in total_medicine: #뽑은것중 알파벳이 4개 일치하면 출력\n",
    "    if len(set(i) & set(medicine)) == 4:\n",
    "        similar_medicine.append(i)\n",
    "similar_medicine"
   ]
  }
 ]
}