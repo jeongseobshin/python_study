{
 "metadata": {
  "language_info": {
   "codemirror_mode": {
    "name": "ipython",
    "version": 3
   },
   "file_extension": ".py",
   "mimetype": "text/x-python",
   "name": "python",
   "nbconvert_exporter": "python",
   "pygments_lexer": "ipython3",
   "version": "3.7.7-final"
  },
  "orig_nbformat": 2,
  "kernelspec": {
   "name": "python3",
   "display_name": "Python 3.7.7 64-bit ('dvm': conda)",
   "metadata": {
    "interpreter": {
     "hash": "72402d38f153c7a09d76b83c353e1a771029e988b0e3167e2d4cb69a1cd6bdaa"
    }
   }
  }
 },
 "nbformat": 4,
 "nbformat_minor": 2,
 "cells": [
  {
   "cell_type": "code",
   "execution_count": 1,
   "metadata": {},
   "outputs": [
    {
     "output_type": "stream",
     "name": "stdout",
     "text": [
      "True\nFalse\n"
     ]
    }
   ],
   "source": [
    "# def all_unique(lst):\n",
    "#     return len(lst) == len(set(lst)) #set : 중복된 값을 빼준다\n",
    "#         # return True\n",
    "#         # print(all_unique)\n",
    "\n",
    "# x = [1, 2, 3, 4, 5, 6]\n",
    "# y = [1, 2, 2, 3, 4, 5]\n",
    "# all_unique(x)\n",
    "# all_unique(y)\n",
    "\n",
    "def all_unique(lst):\n",
    "    return len(lst)==len(set(lst))\n",
    "print(all_unique([1, 2, 3, 4, 5, 6]))\n",
    "print(all_unique([1, 2, 2, 3, 4, 5]))"
   ]
  },
  {
   "cell_type": "code",
   "execution_count": 12,
   "metadata": {},
   "outputs": [
    {
     "output_type": "stream",
     "name": "stdout",
     "text": [
      "HELLO WORLD\nHello World\n"
     ]
    }
   ],
   "source": [
    "s = \"hello world\"\n",
    "print(s.upper()) #모든 알파벳을 대문자로 변환\n",
    "\n",
    "def capitalize_every_word(s):\n",
    "\treturn s.title() #문자열 단어글 첫글자를 대문자로 변환\n",
    "\n",
    "print(capitalize_every_word(s))"
   ]
  },
  {
   "cell_type": "code",
   "execution_count": 18,
   "metadata": {},
   "outputs": [
    {
     "output_type": "stream",
     "name": "stdout",
     "text": [
      "356.0\n"
     ]
    }
   ],
   "source": [
    "celsius = 180\n",
    "\n",
    "def celsius_to_fahrenheit(celsius):\n",
    "\treturn (celsius * 1.8) + 32 #섭씨 -> 화씨 공식\n",
    "\n",
    "print(celsius_to_fahrenheit(celsius))"
   ]
  },
  {
   "cell_type": "code",
   "execution_count": 24,
   "metadata": {},
   "outputs": [
    {
     "output_type": "stream",
     "name": "stdout",
     "text": [
      "[1, 2, 3, 'a', 's', 34]\n"
     ]
    }
   ],
   "source": [
    "lst = [0, 1, False, 2, '', 3, 'a', 's', 34]\n",
    "\n",
    "def compact(lst):\n",
    "\treturn list(filter(None,lst)) #filter는 false,'',none,0 등을 제거해준다. 다시 list로 바꿔준다\n",
    "\n",
    "print(compact(lst))"
   ]
  },
  {
   "cell_type": "code",
   "execution_count": 25,
   "metadata": {},
   "outputs": [
    {
     "output_type": "stream",
     "name": "stdout",
     "text": [
      "[1, 2, 3, 'a', 's', 34]\n"
     ]
    }
   ],
   "source": [
    "lst = [0, 1, False, 2, '', 3, 'a', 's', 34]\n",
    "\n",
    "def compact(lst:\"any list\")->\"list\":\n",
    "    return [i for i in lst if i]\n",
    "print(compact(lst))"
   ]
  },
  {
   "cell_type": "code",
   "execution_count": 32,
   "metadata": {},
   "outputs": [
    {
     "output_type": "stream",
     "name": "stdout",
     "text": [
      "3\n"
     ]
    }
   ],
   "source": [
    "lst = [1,1,2,1,2,3]\n",
    "\n",
    "def count_occurences(lst, val):\n",
    "\treturn lst.count(val)\n",
    "\n",
    "print(count_occurences(lst,1))"
   ]
  },
  {
   "cell_type": "code",
   "execution_count": 36,
   "metadata": {},
   "outputs": [
    {
     "output_type": "stream",
     "name": "stdout",
     "text": [
      "3\n"
     ]
    }
   ],
   "source": [
    "lst = [1,1,2,1,2,3]\n",
    "\n",
    "def count_occurences(lst, val):\n",
    "\treturn len([x for x in lst if x == val and type(x) == type(val)])\n",
    "    # x를 for문으로 반복해서 하나하나 찾는다. []써준다.\n",
    "print(count_occurences(lst,1))"
   ]
  },
  {
   "cell_type": "code",
   "execution_count": 37,
   "metadata": {},
   "outputs": [
    {
     "output_type": "stream",
     "name": "stdout",
     "text": [
      "3.141592653589793\n"
     ]
    }
   ],
   "source": [
    "from math import pi \n",
    "degrees = 180\n",
    "\n",
    "def degrees_to_rads(degrees):\n",
    "\treturn (degrees * pi) / 180.0 #degree를 radian으로 바꿔주는 공식\n",
    "\n",
    "print(degrees_to_rads(degrees))"
   ]
  },
  {
   "cell_type": "code",
   "execution_count": 66,
   "metadata": {},
   "outputs": [
    {
     "output_type": "stream",
     "name": "stdout",
     "text": [
      "[3]\n"
     ]
    }
   ],
   "source": [
    "lst1 = [1,2,3]\n",
    "lst2 = [1,2,4]\n",
    "\n",
    "def dif(a,b) :\n",
    "\treturn ([item for item in lst1 if item not in lst2])\n",
    "print(dif(lst1,lst2))\n",
    "# print(difference(lst1, lst2))"
   ]
  },
  {
   "cell_type": "code",
   "execution_count": 84,
   "metadata": {},
   "outputs": [
    {
     "output_type": "stream",
     "name": "stdout",
     "text": [
      "[3]\n"
     ]
    }
   ],
   "source": [
    "lst1 = [1,2,3]\n",
    "lst2 = [1,2,4]\n",
    "\n",
    "def dfr(a,b) :\n",
    "\treturn ([item for item in lst1 if item not in lst2])\n",
    "print(dfr(lst1,lst2))"
   ]
  },
  {
   "cell_type": "code",
   "execution_count": 94,
   "metadata": {},
   "outputs": [
    {
     "output_type": "stream",
     "name": "stdout",
     "text": [
      "[1, 2, 3]\n"
     ]
    }
   ],
   "source": [
    "a = 123\n",
    "\n",
    "def digitize(n):\n",
    "\treturn list(map(int, str(n))) #map을 사용해서 123을 문자형으로 바꾸고 정수형으로 다시 바꾼다.\n",
    "\n",
    "print(digitize(a))"
   ]
  },
  {
   "cell_type": "code",
   "execution_count": 95,
   "metadata": {},
   "outputs": [
    {
     "output_type": "stream",
     "name": "stdout",
     "text": [
      "[1, 2, 3]\n"
     ]
    }
   ],
   "source": [
    "def digitize(n):\n",
    "    return [int(i) for i in str(n)]\n",
    "print(digitize(a))"
   ]
  },
  {
   "cell_type": "code",
   "execution_count": 117,
   "metadata": {},
   "outputs": [
    {
     "output_type": "stream",
     "name": "stdout",
     "text": [
      "[2, 3]\n[3]\n[]\n"
     ]
    }
   ],
   "source": [
    "def drop(lst, n=1):  #기본값 1 지정\n",
    "    return (lst[n:])\n",
    "\n",
    "\n",
    "print(drop([1,2,3]))\n",
    "print(drop([1,2,3],2))\n",
    "print(drop([1,2,3],999999))"
   ]
  },
  {
   "cell_type": "code",
   "execution_count": null,
   "metadata": {},
   "outputs": [],
   "source": []
  }
 ]
}