{
 "metadata": {
  "language_info": {
   "codemirror_mode": {
    "name": "ipython",
    "version": 3
   },
   "file_extension": ".py",
   "mimetype": "text/x-python",
   "name": "python",
   "nbconvert_exporter": "python",
   "pygments_lexer": "ipython3",
   "version": "3.7.7-final"
  },
  "orig_nbformat": 2,
  "kernelspec": {
   "name": "python3",
   "display_name": "Python 3.7.7 64-bit ('dvm': conda)",
   "metadata": {
    "interpreter": {
     "hash": "72402d38f153c7a09d76b83c353e1a771029e988b0e3167e2d4cb69a1cd6bdaa"
    }
   }
  }
 },
 "nbformat": 4,
 "nbformat_minor": 2,
 "cells": [
  {
   "cell_type": "code",
   "execution_count": 22,
   "metadata": {},
   "outputs": [
    {
     "output_type": "stream",
     "name": "stdout",
     "text": [
      "10\n",
      "3\n"
     ]
    }
   ],
   "source": [
    "'''\n",
    "1번 : 이상한 369\n",
    "n을 입력하면 박수를 몇 번 쳤는지 그 숫자를 출력하는 프로그램을 작성해주세요.\n",
    "'''\n",
    "#첫번째 답\n",
    "n = 30\n",
    "count = 0\n",
    "\n",
    "for r in range(n):\n",
    "    if r % 3 == 0:\n",
    "        count += 1\n",
    "print(count)\n",
    "\n",
    "#두번째 답\n",
    "def sol(n):\n",
    "    def check(n):\n",
    "        for i in str(n):\n",
    "            if int(i) == 0 or int(i) % 3 != 0:\n",
    "                return 0\n",
    "        return 1\n",
    "\n",
    "\n",
    "    cnt = 0\n",
    "    for i in range(1,n+1):\n",
    "        cnt += check(i) \n",
    "    return cnt\n",
    "\n",
    "\n",
    "print(sol(int(input())))"
   ]
  },
  {
   "cell_type": "code",
   "execution_count": 29,
   "metadata": {},
   "outputs": [
    {
     "output_type": "stream",
     "name": "stdout",
     "text": [
      "['지나갔습니다.', '00시간 40분', '01시간 33분']\n"
     ]
    }
   ],
   "source": [
    "'''\n",
    "2번 : 버스시간표\n",
    "학교가 끝난 지원이는 집에 가려고 합니다. 학교 앞에 있는 버스 시간표는 너무 복잡해서, 버스 도착시간이 몇 분 남았는지 알려주는 프로그램을 만들고 싶습니다.\n",
    "버스시간표와 현재 시간이 주어졌을 때 버스 도착 시간이 얼마나 남았는지 알려주는 프로그램을 만들어주세요.\n",
    "\n",
    "조건\n",
    "버스 시간표 그리고 현재 시간이 입력으로 주어집니다.\n",
    "출력 포맷은 00시 00분 입니다.\n",
    "만약 1시간 3분이 남았다면 01시간 03분으로 출력해야 합니다.\n",
    "버스 시간표에 현재 시간보다 이전인 버스가 있다면 지나갔습니다.라고 출력합니다.\n",
    "'''\n",
    "li = ['12:30','13:20','14:13']\n",
    "now = '12:40'\n",
    "\n",
    "res = []\n",
    "\n",
    "def min_change(time):\n",
    "    return int(time.split(':')[0])*60 + int(time.split(':')[1])\n",
    "def hour_change(time):\n",
    "    return '{:02d}시간 {:02d}분'.format(time//60,time%60)\n",
    "\n",
    "for i in li:\n",
    "    if min_change(i) - min_change(now) < 0:\n",
    "        res.append('지나갔습니다.')\n",
    "    else:\n",
    "        res.append(hour_change(min_change(i)-min_change(now)))\n",
    "print(res)"
   ]
  },
  {
   "cell_type": "code",
   "execution_count": 38,
   "metadata": {},
   "outputs": [
    {
     "output_type": "stream",
     "name": "stdout",
     "text": [
      "2021-03-24 13:52:34.760152\n2021324\n"
     ]
    }
   ],
   "source": [
    "'''\n",
    "3번 : 날짜 출력하기\n",
    "문제를 풀고 있는 오늘의 날짜를 yyyymmdd 형태로 출력하세요.\n",
    "\n",
    "조건\n",
    "print('20200901')라고 사용하거나, input()으로 20200901을 입력받아 출력하는 등, 코드에 직접 오늘의 날짜와 관련된 숫자를 포함하는 것은 금지합니다.\n",
    "'''\n",
    "import datetime\n",
    "\n",
    "today = datetime.datetime.now()\n",
    "print(today)\n",
    "\n",
    "from datetime import date\n",
    "print(str(date.today().year)+str(date.today().month)+str(date.today().day))"
   ]
  },
  {
   "cell_type": "code",
   "execution_count": 39,
   "metadata": {},
   "outputs": [
    {
     "output_type": "stream",
     "name": "stdout",
     "text": [
      "{'손오공': 1, '메지터': 2, '비콜로': 3, '야모챠': 4}\n"
     ]
    }
   ],
   "source": [
    "'''\n",
    "4번 : 천하제일 먹기대회\n",
    "문제\n",
    "선수 명단과 각각의 점수를 입력으로 받아, 각각의 등수를 출력해주는 코드를 작성하세요.\n",
    "\n",
    "조건\n",
    "'천하제일먹기대회' 제 1회가 개최되었습니다. 이 대회는 경기시간동안 마음껏 먹은 후, 정해진 시간이 끝나고 나면, 음식을 먹은 개수를 파악하여, 각 선수들간의 등수를 매깁니다.\n",
    "\n",
    "(단, 동점자는 없다고 가정합니다.)\n",
    "'''\n",
    "nameList = [\"손오공\", \"야모챠\", \"메지터\", \"비콜로\"]\n",
    "scoreList = [70, 10, 55, 40]\n",
    "\n",
    "res = {}\n",
    "a = list([i,j] for i,j in zip(nameList,scoreList))\n",
    "a = sorted(a, key= lambda a:a[1], reverse=True)\n",
    "\n",
    "for i in range(len(a)):\n",
    "    res[a[i][0]] = i+1\n",
    "print(res)"
   ]
  }
 ]
}