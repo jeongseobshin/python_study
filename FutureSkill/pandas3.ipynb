{
 "metadata": {
  "language_info": {
   "codemirror_mode": {
    "name": "ipython",
    "version": 3
   },
   "file_extension": ".py",
   "mimetype": "text/x-python",
   "name": "python",
   "nbconvert_exporter": "python",
   "pygments_lexer": "ipython3",
   "version": 3
  },
  "orig_nbformat": 2
 },
 "nbformat": 4,
 "nbformat_minor": 2,
 "cells": [
  {
   "cell_type": "code",
   "execution_count": null,
   "metadata": {},
   "outputs": [],
   "source": [
    "import pandas as pd\n",
    "\n",
    "student_list = [\n",
    "    {'name':'John','major':'computer science','sex':'male'},\n",
    "    {'name':'Nate','major':'computer science','sex':'female'},\n",
    "    {'name':'Abraham','major':'physics','sex':'male'},\n",
    "    {'name':'Brian','major':'psychology','sex':'male'},\n",
    "    {'name':'Janny','major':'Economic','sex':'female'},\n",
    "    {'name':'Yuna','major':'Economic','sex':'female'},\n",
    "    {'name':'Jeniffer','major':'computer science','sex':'female'},\n",
    "    {'name':'Edward','major':'computer science','sex':'male'},\n",
    "    {'name':'Zara','major':'psychology','sex':'male'},\n",
    "    {'name':'Sera','major':'physics','sex':'female'},\n",
    "]\n",
    "df = pd.DataFrame(student_list, columns = ['name','major','sex'])\n",
    "df.head()"
   ]
  }
 ]
}