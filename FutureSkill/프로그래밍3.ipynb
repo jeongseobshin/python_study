{
 "metadata": {
  "language_info": {
   "codemirror_mode": {
    "name": "ipython",
    "version": 3
   },
   "file_extension": ".py",
   "mimetype": "text/x-python",
   "name": "python",
   "nbconvert_exporter": "python",
   "pygments_lexer": "ipython3",
   "version": "3.7.7-final"
  },
  "orig_nbformat": 2,
  "kernelspec": {
   "name": "python3",
   "display_name": "Python 3.7.7 64-bit ('dvm': conda)",
   "metadata": {
    "interpreter": {
     "hash": "72402d38f153c7a09d76b83c353e1a771029e988b0e3167e2d4cb69a1cd6bdaa"
    }
   }
  }
 },
 "nbformat": 4,
 "nbformat_minor": 2,
 "cells": [
  {
   "cell_type": "code",
   "execution_count": 50,
   "metadata": {},
   "outputs": [
    {
     "output_type": "stream",
     "name": "stdout",
     "text": [
      "5\n"
     ]
    }
   ],
   "source": [
    "'''\n",
    "1번 : 아르바이트\n",
    "호준이가 몇 개의 사탕을 구매해야 하는지 알려주는 코드를 작성해주세요.\n",
    "\n",
    "조건\n",
    "호준이가 아르바이트를 하고 있는 학원에서는 수학시험의 결과에 따라 1위부터 3위까지의 학생에게 상으로 사탕을 주어야 합니다.\n",
    "그런데 오늘은 마침 사탕이 다 떨어져서 호준이는 채점을 한 후 필요한 만큼 사탕을 사러 가기로 했습니다.\n",
    "(단, 1위~ 3위 학생은 여러명일 수 있고 1~3위 학생 중 중복되는 학생까지 포함하여 사탕을 사기로 한다.)\n",
    "'''\n",
    "\n",
    "records = [100,99,98,97,96,100,98,97]\n",
    "numCandy = 0\n",
    "max_records = max(records)\n",
    "\n",
    "for i in range(3) :     \n",
    "    max_value = max(records)     \n",
    "    for j in range(len(records)):      \n",
    "        if max_value in records:       \n",
    "            numCandy += 1\n",
    "            records.remove(max_value)\n",
    "print(numCandy)"
   ]
  },
  {
   "cell_type": "code",
   "execution_count": 104,
   "metadata": {},
   "outputs": [
    {
     "output_type": "stream",
     "name": "stdout",
     "text": [
      "4\n",
      "------------------------\n",
      "4\n"
     ]
    }
   ],
   "source": [
    "'''\n",
    "2번 : 수영장 채우기\n",
    "문제\n",
    "각 수영장에 들어가는 물의 양인 N이 주어졌을 때, 두 개의 운반 기계를 이용해서 수영장을 가득 채울 수 있는 운반 기계의 최소 이용 회수를 구하는 코드를 작성하세요.\n",
    "(만약 어떻게 해도 정량이 N이 되지 않는다면 -1을 출력합니다.)\n",
    "\n",
    "조건\n",
    "수영장에서 알바를 하고 있는 은후가 채워야하는 여러 수영장중 하나의 수영장은 24L의 물이 들어갑니다.\n",
    "이 수영장은 물을 정확히 꽉 채워야 운영이 가능한데, 물을 채우려면 물을 운반 기계를 통해 물을 받아 와서 채워야 합니다.\n",
    "운반 기계는 두 종류가 있으며, 하나는 한번에 7L를 다른 하나는 3L를 한번에 운반할 수 있습니다.\n",
    "운반 기계를 대한 덜 쓰고 싶은 알바생 은후는 어떻게 하면 가장 적은 횟수로 물을 옮길 수 있는지 고민합니다.\n",
    "'''\n",
    "# n = 24\n",
    "# a = 7\n",
    "# b = 3\n",
    "# cnt = 0\n",
    "\n",
    "def water(n,a,b):\n",
    "    c = n // a\n",
    "    d = c // b\n",
    "    return c + d\n",
    "\n",
    "print(water(int(input()),7,3))\n",
    "\n",
    "\n",
    "print('------------------------')\n",
    "\n",
    "water = int(input())\n",
    "res = 0\n",
    "\n",
    "\n",
    "while water > 2:\n",
    "    if water > 7 :\n",
    "        res += water // 7\n",
    "        water = water % 7\n",
    "    else:\n",
    "        res += water // 3\n",
    "        water = water % 3\n",
    "if water == 0:\n",
    "    print(res)\n",
    "else:\n",
    "    print(-1)"
   ]
  },
  {
   "cell_type": "code",
   "execution_count": 114,
   "metadata": {},
   "outputs": [
    {
     "output_type": "stream",
     "name": "stdout",
     "text": [
      "0 5\n"
     ]
    }
   ],
   "source": [
    "'''\n",
    "3번 : 악수\n",
    "광장에서 모인 사람들끼리 악수를 하는 행사가 열렸습니다. 모인 모든 사람들을 돌아가면서 1대 1로 악수를 진행합니다. 악수를 하고 나서는 같은 상대와 다시 악수를 하지 않으며, 행사가 끝날 때까지 모든 사람들과 악수를 진행하면 행사는 종료됩니다.\n",
    "참가자인 민규는 행사가 시작되고 몇 명의 사람들과 악수를 한 후 급한 일이 생겨서 행사를 먼저 떠나게 되었습니다. 행사는 무사히 마무리가 되었고 행사에서 진행된 악수가 총 n번이라고 할 때,\n",
    "1) 민규는 몇 명의 사람과 악수를 하고 행사를 떠났는지\n",
    "2) 행사에 참여한 사람은 민규를 포함해서 총 몇 명인지\n",
    "계산하는 함수의 코드를 작성하세요.\n",
    "\n",
    "조건\n",
    "행사에서 59회의 악수가 진행되었다고 하면 이 때 민규는 4명의 사람과 악수를 진행하였고, 행사에 참가한 총 참가자 수는 12명이다.\n",
    "입출력 형식은 다음과 같습니다.\n",
    "(input) n (행사에서 진행된 악수 횟수)\n",
    "(output) [민규와 악수한 사람의 수 , 행사 참가자 수]\n",
    "'''\n",
    "# n = int(input())\n",
    "# mingyu = 0\n",
    "# participants = 0\n",
    "\n",
    "# def shake(n): #n==6\n",
    "#     mingyu = n #\n",
    "#     participants = n**2 / n #4\n",
    "#     return mingyu, participants\n",
    "# print(shake(n))\n",
    "\n",
    "\n",
    "n =int(input())\n",
    "count = 0\n",
    "people = 0\n",
    "res = []\n",
    "\n",
    "\n",
    "while True:\n",
    "    a = people * (people+1) // 2\n",
    "    people+=1\n",
    "    if n < a:\n",
    "        break\n",
    "count = n - (people-2)*(people-1) // 2\n",
    "print(count,people)\n",
    "\n"
   ]
  },
  {
   "cell_type": "code",
   "execution_count": 127,
   "metadata": {},
   "outputs": [
    {
     "output_type": "stream",
     "name": "stdout",
     "text": [
      "0\n"
     ]
    }
   ],
   "source": [
    "'''\n",
    "4번 : 놀이동산에 가자\n",
    "테마파크에 온 진우와 친구들은 놀이기구를 타려고 합니다. 모든 놀이기구는 한번에 타는 인원수에는 제한이 없지만 제한 무게를 넘으면 무조건 다음 기구를 타야 합니다.\n",
    "진우와 친구들이 총 몇 번에 거쳐서 탈 수 있는지 알려주는 프로그램을 작성해 주세요.\n",
    "\n",
    "조건\n",
    "첫번째 줄에서 제한 무게가 주어지고, 두번째 줄에서는 함께한 친구들의 수가 주어집니다.\n",
    "그 다음 줄부터 차례대로 탑승할 친구들의 몸무게가 주어집니다. 몸무게는 무작위로 주어집니다.\n",
    "'''\n",
    "limit_weight = int(input())\n",
    "n = int(input())\n",
    "list_weight = [20,20,20,20,20,20]\n",
    "count =0\n",
    "maximum = 0\n",
    "\n",
    "for i in range(n):\n",
    "    maximum += list_weight[i]\n",
    "    if maximum < limit_weight:\n",
    "        count+=1\n",
    "        n -= 1\n",
    "print(count)\n",
    "\n",
    "# maximum = 20 20 20\n",
    "# cnt = 2"
   ]
  }
 ]
}