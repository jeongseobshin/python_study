{
 "metadata": {
  "language_info": {
   "codemirror_mode": {
    "name": "ipython",
    "version": 3
   },
   "file_extension": ".py",
   "mimetype": "text/x-python",
   "name": "python",
   "nbconvert_exporter": "python",
   "pygments_lexer": "ipython3",
   "version": "3.7.7-final"
  },
  "orig_nbformat": 2,
  "kernelspec": {
   "name": "python3",
   "display_name": "Python 3.7.7 64-bit ('dvm': conda)",
   "metadata": {
    "interpreter": {
     "hash": "72402d38f153c7a09d76b83c353e1a771029e988b0e3167e2d4cb69a1cd6bdaa"
    }
   }
  }
 },
 "nbformat": 4,
 "nbformat_minor": 2,
 "cells": [
  {
   "cell_type": "code",
   "execution_count": 83,
   "metadata": {},
   "outputs": [
    {
     "output_type": "execute_result",
     "data": {
      "text/plain": [
       "[1, 2, 3, 4]"
      ]
     },
     "metadata": {},
     "execution_count": 83
    }
   ],
   "source": [
    "'''\n",
    "1번 : initial\n",
    "리스트의 마지막 원소 를 제외한 나머지 모든 원소를 반환하는 코드를 작성하세요.\n",
    "'''\n",
    "\n",
    "lst = [1,2,3,4,5]\n",
    "\n",
    "def initial(lst):\n",
    "\treturn lst[:-1]\n",
    "\n",
    "initial(lst)"
   ]
  },
  {
   "cell_type": "code",
   "execution_count": 84,
   "metadata": {},
   "outputs": [
    {
     "output_type": "stream",
     "name": "stdout",
     "text": [
      "[0, 1, 2, 3, 4, 5]\n[3, 4, 5, 6, 7]\n[0, 2, 4, 6, 8]\n"
     ]
    }
   ],
   "source": [
    "'''\n",
    "2번 : initialize list with range\n",
    "주어진 범위 만큼의 리스트를 생성하는 코드를 작성하세요.\n",
    "단, start 와 end 는 범위를 지정하며, step 은 원소간의 간격을 의미합니다.\n",
    "'''\n",
    "\n",
    "def initialize_list_with_range(end, start=0, step=1):\n",
    "    return list(range(start,end+1,step))\n",
    "\n",
    "print(initialize_list_with_range(5))\n",
    "print(initialize_list_with_range(7,3))\n",
    "print(initialize_list_with_range(9,0,2))"
   ]
  },
  {
   "cell_type": "code",
   "execution_count": 85,
   "metadata": {},
   "outputs": [
    {
     "output_type": "stream",
     "name": "stdout",
     "text": [
      "[0, 0, 0, 0, 0]\n[2, 2, 2, 2, 2]\n[3, 3, 3]\n"
     ]
    }
   ],
   "source": [
    "'''\n",
    "3번 : initialize list with values\n",
    "주어진 값으로 채워진 리스트를 생성하는 코드를 작성하세요.\n",
    "'''\n",
    "\n",
    "def initialize_list_with_values(n, val=0):\n",
    "    return [val for a in range(n)]\n",
    "\n",
    "print(initialize_list_with_values(5))\n",
    "print(initialize_list_with_values(5,2))\n",
    "print(initialize_list_with_values(3,3))"
   ]
  },
  {
   "cell_type": "code",
   "execution_count": 86,
   "metadata": {},
   "outputs": [
    {
     "output_type": "execute_result",
     "data": {
      "text/plain": [
       "[2, 3]"
      ]
     },
     "metadata": {},
     "execution_count": 86
    }
   ],
   "source": [
    "'''\n",
    "4번 : intersection *****\n",
    "두 리스트에 모두 존재하는 값을 반환하는 코드를 작성하세요.\n",
    "'''\n",
    "\n",
    "lst1 = [1,2,3]\n",
    "lst2 = [2,3,4] \n",
    "\n",
    "def intersection(a,b):\n",
    "    _a, _b = set(a), set(b) #set자료형일 때는 합집합 교집합 등 가능하다.\n",
    "    return list(_a & _b)\n",
    "\n",
    "intersection(lst1,lst2)"
   ]
  },
  {
   "cell_type": "code",
   "execution_count": 87,
   "metadata": {},
   "outputs": [
    {
     "output_type": "stream",
     "name": "stdout",
     "text": [
      "yes\n"
     ]
    }
   ],
   "source": [
    "'''\n",
    "5번 : is divisible\n",
    "첫번째 숫자(dividend)가 두번째 숫자(divisor)로 나누어 떨어지는지 확인하는 코드를 작성하세요.\n",
    "'''\n",
    "\n",
    "a = 9\n",
    "b = 3\n",
    "\n",
    "def is_divisible(dividend, divisor):\n",
    "    # return dividend % divisor == 0\n",
    "    if dividend % divisor == 0:\n",
    "        print('yes')\n",
    "    else:\n",
    "        print('no')\n",
    "\n",
    "is_divisible(a, b)"
   ]
  },
  {
   "cell_type": "code",
   "execution_count": 88,
   "metadata": {},
   "outputs": [
    {
     "output_type": "execute_result",
     "data": {
      "text/plain": [
       "False"
      ]
     },
     "metadata": {},
     "execution_count": 88
    }
   ],
   "source": [
    "'''\n",
    "6번 : is even\n",
    "주어진 숫자가 짝수일 경우 True를, 홀수인 경우 False를 반환하는 코드를 작성하세요.\n",
    "'''\n",
    "\n",
    "a = 9\n",
    "\n",
    "def is_even(num):\n",
    "    return num % 2 == 0\n",
    "\n",
    "is_even(a)"
   ]
  },
  {
   "cell_type": "code",
   "execution_count": 89,
   "metadata": {},
   "outputs": [
    {
     "output_type": "execute_result",
     "data": {
      "text/plain": [
       "False"
      ]
     },
     "metadata": {},
     "execution_count": 89
    }
   ],
   "source": [
    "'''\n",
    "7번 : is odd\n",
    "주어진 숫자가 홀수일 경우 True를, 짝수인 경우 False를 반환하는 코드를 작성하세요.\n",
    "'''\n",
    "\n",
    "a = 4\n",
    "\n",
    "def is_odd(num):\n",
    "    return num % 2 == 1\n",
    "\n",
    "is_odd(a)"
   ]
  },
  {
   "cell_type": "code",
   "execution_count": 90,
   "metadata": {},
   "outputs": [
    {
     "output_type": "execute_result",
     "data": {
      "text/plain": [
       "['Peter', 'Isabel', 'Anna']"
      ]
     },
     "metadata": {},
     "execution_count": 90
    }
   ],
   "source": [
    "'''\n",
    "8번 : keys only\n",
    "딕셔너리의 모든 키를 리스트로 변환하는 코드를 작성하세요.\n",
    "'''\n",
    "\n",
    "ages = {\n",
    "\t\"Peter\":10,\n",
    "\t\"Isabel\":11,\n",
    "\t\"Anna\":9,\n",
    "}\n",
    "\n",
    "def keys_only(flat_dict):\n",
    "    return list(flat_dict.keys())\n",
    "\n",
    "keys_only(ages)"
   ]
  },
  {
   "cell_type": "code",
   "execution_count": 91,
   "metadata": {},
   "outputs": [
    {
     "output_type": "stream",
     "name": "stdout",
     "text": [
      "3\n3\n"
     ]
    }
   ],
   "source": [
    "'''\n",
    "9번 : last\n",
    "리스트의 마지막 값을 반환하는 코드를 작성하세요.\n",
    "'''\n",
    "\n",
    "lst = [1,2,3]\n",
    "\n",
    "def last(lst):\n",
    "    return lst[-1]\n",
    "\n",
    "print(last(lst))\n",
    "\n",
    "def last(lst):\n",
    "    return lst.pop(2)\n",
    "\n",
    "\n",
    "print(last(lst))"
   ]
  },
  {
   "cell_type": "code",
   "execution_count": 92,
   "metadata": {},
   "outputs": [
    {
     "output_type": "execute_result",
     "data": {
      "text/plain": [
       "8"
      ]
     },
     "metadata": {},
     "execution_count": 92
    }
   ],
   "source": [
    "'''\n",
    "10번 : max by\n",
    "주어진 함수 fn를 리스트 lst의 각 값에 적용한 뒤, 최댓값을 반환하는 코드를 작성하세요.\n",
    "'''\n",
    "\n",
    "lst = [{'n':4},{'n':2},{'n':8},{'n':6}]\n",
    "fn = lambda v:v['n']\n",
    "\n",
    "def max_by(lst, fn):\n",
    "    return max(map(fn,lst)) \n",
    "    #return max(map(4,2,8,6))\n",
    "\n",
    "max_by(lst, fn)"
   ]
  }
 ]
}